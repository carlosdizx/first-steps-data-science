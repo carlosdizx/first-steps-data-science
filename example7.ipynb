{
 "cells": [
  {
   "cell_type": "code",
   "outputs": [],
   "source": [
    "import pandas as pd\n",
    "import numpy as np"
   ],
   "metadata": {
    "collapsed": false,
    "ExecuteTime": {
     "end_time": "2024-04-11T02:13:14.549444Z",
     "start_time": "2024-04-11T02:13:11.632143Z"
    }
   },
   "id": "7eb62009bc6a820",
   "execution_count": 2
  },
  {
   "cell_type": "code",
   "outputs": [],
   "source": [
    "df = pd.read_csv('data/dataset_climatico.csv')\n",
    "df.head()\n",
    "\n",
    "temperaturas = df.Temperatura.values\n",
    "precipitaciones = df.Precipitaciones.values\n",
    "velocidad_vientos = df.VelocidadViento.values"
   ],
   "metadata": {
    "collapsed": false,
    "ExecuteTime": {
     "end_time": "2024-04-11T02:13:27.054430Z",
     "start_time": "2024-04-11T02:13:27.048539Z"
    }
   },
   "id": "af59eb0efbfdc6e6",
   "execution_count": 4
  },
  {
   "cell_type": "code",
   "outputs": [],
   "source": [
    "print(\"Temperatura Máxima\", temperaturas.max())\n",
    "print(\"Precipitación Máxima\", precipitaciones.max())\n",
    "print(\"Velocidad de viento Máxima\", velocidad_vientos.max())\n",
    "\n",
    "print(\"--------\")\n",
    "\n",
    "print(\"Temperatura Minima\", temperaturas.min())\n",
    "print(\"Precipitación Minima\", precipitaciones.min())\n",
    "print(\"Velocidad de viento Minima\", velocidad_vientos.min())"
   ],
   "metadata": {
    "collapsed": false
   },
   "id": "76644ea927097ac4",
   "execution_count": null
  },
  {
   "cell_type": "code",
   "outputs": [
    {
     "name": "stdout",
     "output_type": "stream",
     "text": [
      "Temperatura promedio 12.124018250621633\n",
      "Total precipitaciones 3628.644305464683\n",
      "Velocidad de Viento promedio 49.36319533188268\n",
      "--------\n",
      "Desviación para temperatura 12.99608389983345\n",
      "Desviación para temperatura 5.901257544326424\n",
      "Desviación para temperatura 12.99608389983345\n"
     ]
    }
   ],
   "source": [
    "avg_temp = np.mean(temperaturas)\n",
    "total_precip = np.sum(precipitaciones)\n",
    "avg_wind_speed = np.mean(velocidad_vientos)\n",
    "\n",
    "std_temp = np.std(temperaturas)\n",
    "std_precip = np.std(precipitaciones)\n",
    "std_wind_speed = np.std(temperaturas)\n",
    "\n",
    "print(\"Temperatura promedio\", avg_temp)\n",
    "print(\"Total precipitaciones\", total_precip)\n",
    "print(\"Velocidad de Viento promedio\", avg_wind_speed)\n",
    "\n",
    "print(\"--------\")\n",
    "\n",
    "print(\"Desviación para temperatura\", std_temp)\n",
    "print(\"Desviación para temperatura\", std_precip)\n",
    "print(\"Desviación para temperatura\", std_wind_speed)"
   ],
   "metadata": {
    "collapsed": false,
    "ExecuteTime": {
     "end_time": "2024-04-09T04:33:59.401981Z",
     "start_time": "2024-04-09T04:33:59.389413Z"
    }
   },
   "id": "7a106d925186864d",
   "execution_count": 26
  },
  {
   "cell_type": "code",
   "outputs": [
    {
     "name": "stdout",
     "output_type": "stream",
     "text": [
      "18.45845666904302\n",
      "[ 13  18  31  37  39  56  57  62  78  83  84  87  90 107 110 113 114 124\n",
      " 141 175 180 198 203 205 210 231 235 248 255 260 271 277 278 295 324 357\n",
      " 363]\n",
      "22.63644259188382\n",
      "24.488947942009943\n",
      "[  8   9  11  14  18  19  20  21  22  24  28  32  39  53  67  69  71  73\n",
      "  75  90  99 103 104 110 112 115 117 119 123 141 144 145 148 150 152 156\n",
      " 157 164 165 166 169 175 178 185 189 194 195 210 211 216 220 222 224 226\n",
      " 229 230 241 252 253 254 255 259 264 266 271 272 274 276 277 278 280 282\n",
      " 287 293 298 299 300 301 302 309 311 319 320 332 335 336 345 350 360 362\n",
      " 365]\n",
      "[  9  10  11  13  14  16  28  43  44  51  55  56  58  60  64  68  71  85\n",
      "  86  87  92  94  95  97 100 102 108 112 113 123 127 129 137 142 159 173\n",
      " 174 177 179 180 182 184 198 200 202 204 208 211 212 213 221 223 225 231\n",
      " 233 239 242 246 259 261 263 266 269 272 275 278 279 282 285 288 291 298\n",
      " 300 302 309 311 315 322 326 333 334 336 337 340 341 344 346 353 357 362\n",
      " 365]\n"
     ]
    }
   ],
   "source": [
    "precip_90th_percentile = np.percentile(precipitaciones, 90)\n",
    "print(precip_90th_percentile)\n",
    "days_precip_above_90 = np.where(precipitaciones > precip_90th_percentile)[0] + 1\n",
    "print(days_precip_above_90)\n",
    "\n",
    "\n",
    "temp_top_quartile = np.percentile(temperaturas, 75)\n",
    "print(temp_top_quartile)\n",
    "wind_bottom_quartile = np.percentile(velocidad_vientos, 25)\n",
    "print(wind_bottom_quartile)\n",
    "days_temp_top_quartile = np.where(temperaturas > temp_top_quartile)[0] + 1\n",
    "print(days_temp_top_quartile)\n",
    "days_wind_bottom_quartile = np.where(velocidad_vientos < wind_bottom_quartile)[0] + 1\n",
    "print(days_wind_bottom_quartile)"
   ],
   "metadata": {
    "collapsed": false,
    "ExecuteTime": {
     "end_time": "2024-04-11T02:13:31.088220Z",
     "start_time": "2024-04-11T02:13:31.080969Z"
    }
   },
   "id": "e72d10dfdf09bd65",
   "execution_count": 5
  }
 ],
 "metadata": {
  "kernelspec": {
   "display_name": "Python 3",
   "language": "python",
   "name": "python3"
  },
  "language_info": {
   "codemirror_mode": {
    "name": "ipython",
    "version": 2
   },
   "file_extension": ".py",
   "mimetype": "text/x-python",
   "name": "python",
   "nbconvert_exporter": "python",
   "pygments_lexer": "ipython2",
   "version": "2.7.6"
  }
 },
 "nbformat": 4,
 "nbformat_minor": 5
}
