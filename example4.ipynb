{
 "cells": [
  {
   "cell_type": "code",
   "outputs": [
    {
     "name": "stdout",
     "output_type": "stream",
     "text": [
      "hola\n",
      "como\n",
      "esta?\n",
      "eres pro\n"
     ]
    }
   ],
   "source": [
    "with open('data/logs.txt') as file:\n",
    " for line in file:\n",
    "    print(line.strip())"
   ],
   "metadata": {
    "collapsed": false,
    "ExecuteTime": {
     "end_time": "2024-03-19T03:07:18.352699Z",
     "start_time": "2024-03-19T03:07:18.347705Z"
    }
   },
   "id": "437d85e3a3242002",
   "execution_count": 14
  },
  {
   "cell_type": "code",
   "outputs": [],
   "source": [
    "from datetime import date\n",
    "now = date.today()\n",
    "with open('data/'+now.strftime(\"%Y-%m-%d\")+'.txt', 'w') as file:\n",
    " for x in range(100):\n",
    "     message  = \"#\"+str(x+1) +\" registro.\\n\"\n",
    "     file.write(message)"
   ],
   "metadata": {
    "collapsed": false,
    "ExecuteTime": {
     "end_time": "2024-03-20T23:22:57.832193Z",
     "start_time": "2024-03-20T23:22:57.825207Z"
    }
   },
   "id": "86c7d7136b3cff95",
   "execution_count": 11
  }
 ],
 "metadata": {
  "kernelspec": {
   "display_name": "Python 3",
   "language": "python",
   "name": "python3"
  },
  "language_info": {
   "codemirror_mode": {
    "name": "ipython",
    "version": 2
   },
   "file_extension": ".py",
   "mimetype": "text/x-python",
   "name": "python",
   "nbconvert_exporter": "python",
   "pygments_lexer": "ipython2",
   "version": "2.7.6"
  }
 },
 "nbformat": 4,
 "nbformat_minor": 5
}
