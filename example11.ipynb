{
 "cells": [
  {
   "cell_type": "code",
   "execution_count": 2,
   "id": "initial_id",
   "metadata": {
    "collapsed": true,
    "ExecuteTime": {
     "end_time": "2024-04-14T23:01:30.988880Z",
     "start_time": "2024-04-14T23:01:29.419514Z"
    }
   },
   "outputs": [],
   "source": [
    "import pandas as pd"
   ]
  },
  {
   "cell_type": "code",
   "outputs": [
    {
     "data": {
      "text/plain": "         Name  Platform  Year_of_Release      Genre        Publisher  \\\n0      Game 0    Switch             2011        RPG  Electronic Arts   \n1      Game 1    Mobile             2011  Adventure          Ubisoft   \n2      Game 2  Xbox One             2003     Puzzle      Square Enix   \n3      Game 3    Mobile             2015   Strategy      Square Enix   \n4      Game 4    Mobile             2003     Sports  Electronic Arts   \n..        ...       ...              ...        ...              ...   \n994  Game 994    Mobile             2018        RPG         Nintendo   \n995  Game 995       PS4             2014        RPG      Square Enix   \n996  Game 996        PC             2003     Sports      Square Enix   \n997  Game 997        PC             2020  Adventure          Ubisoft   \n998  Game 998    Switch             2012     Sports          Ubisoft   \n\n     NA_Sales  EU_Sales  JP_Sales  Other_Sales  Global_Sales  \n0        1.31      0.95      1.35         0.12          3.73  \n1        1.73      2.08      1.02         0.78          5.61  \n2        4.59      0.82      1.72         0.91          8.04  \n3        1.46      0.58      1.73         0.39          4.16  \n4        2.36      0.56      0.03         0.63          3.58  \n..        ...       ...       ...          ...           ...  \n994      3.32      0.58      1.35         0.68          5.93  \n995      2.06      0.13      1.96         0.08          4.23  \n996      2.02      1.18      1.97         0.99          6.16  \n997      4.42      2.41      1.38         0.41          8.62  \n998      4.48      1.03      0.49         0.29          6.29  \n\n[999 rows x 10 columns]",
      "text/html": "<div>\n<style scoped>\n    .dataframe tbody tr th:only-of-type {\n        vertical-align: middle;\n    }\n\n    .dataframe tbody tr th {\n        vertical-align: top;\n    }\n\n    .dataframe thead th {\n        text-align: right;\n    }\n</style>\n<table border=\"1\" class=\"dataframe\">\n  <thead>\n    <tr style=\"text-align: right;\">\n      <th></th>\n      <th>Name</th>\n      <th>Platform</th>\n      <th>Year_of_Release</th>\n      <th>Genre</th>\n      <th>Publisher</th>\n      <th>NA_Sales</th>\n      <th>EU_Sales</th>\n      <th>JP_Sales</th>\n      <th>Other_Sales</th>\n      <th>Global_Sales</th>\n    </tr>\n  </thead>\n  <tbody>\n    <tr>\n      <th>0</th>\n      <td>Game 0</td>\n      <td>Switch</td>\n      <td>2011</td>\n      <td>RPG</td>\n      <td>Electronic Arts</td>\n      <td>1.31</td>\n      <td>0.95</td>\n      <td>1.35</td>\n      <td>0.12</td>\n      <td>3.73</td>\n    </tr>\n    <tr>\n      <th>1</th>\n      <td>Game 1</td>\n      <td>Mobile</td>\n      <td>2011</td>\n      <td>Adventure</td>\n      <td>Ubisoft</td>\n      <td>1.73</td>\n      <td>2.08</td>\n      <td>1.02</td>\n      <td>0.78</td>\n      <td>5.61</td>\n    </tr>\n    <tr>\n      <th>2</th>\n      <td>Game 2</td>\n      <td>Xbox One</td>\n      <td>2003</td>\n      <td>Puzzle</td>\n      <td>Square Enix</td>\n      <td>4.59</td>\n      <td>0.82</td>\n      <td>1.72</td>\n      <td>0.91</td>\n      <td>8.04</td>\n    </tr>\n    <tr>\n      <th>3</th>\n      <td>Game 3</td>\n      <td>Mobile</td>\n      <td>2015</td>\n      <td>Strategy</td>\n      <td>Square Enix</td>\n      <td>1.46</td>\n      <td>0.58</td>\n      <td>1.73</td>\n      <td>0.39</td>\n      <td>4.16</td>\n    </tr>\n    <tr>\n      <th>4</th>\n      <td>Game 4</td>\n      <td>Mobile</td>\n      <td>2003</td>\n      <td>Sports</td>\n      <td>Electronic Arts</td>\n      <td>2.36</td>\n      <td>0.56</td>\n      <td>0.03</td>\n      <td>0.63</td>\n      <td>3.58</td>\n    </tr>\n    <tr>\n      <th>...</th>\n      <td>...</td>\n      <td>...</td>\n      <td>...</td>\n      <td>...</td>\n      <td>...</td>\n      <td>...</td>\n      <td>...</td>\n      <td>...</td>\n      <td>...</td>\n      <td>...</td>\n    </tr>\n    <tr>\n      <th>994</th>\n      <td>Game 994</td>\n      <td>Mobile</td>\n      <td>2018</td>\n      <td>RPG</td>\n      <td>Nintendo</td>\n      <td>3.32</td>\n      <td>0.58</td>\n      <td>1.35</td>\n      <td>0.68</td>\n      <td>5.93</td>\n    </tr>\n    <tr>\n      <th>995</th>\n      <td>Game 995</td>\n      <td>PS4</td>\n      <td>2014</td>\n      <td>RPG</td>\n      <td>Square Enix</td>\n      <td>2.06</td>\n      <td>0.13</td>\n      <td>1.96</td>\n      <td>0.08</td>\n      <td>4.23</td>\n    </tr>\n    <tr>\n      <th>996</th>\n      <td>Game 996</td>\n      <td>PC</td>\n      <td>2003</td>\n      <td>Sports</td>\n      <td>Square Enix</td>\n      <td>2.02</td>\n      <td>1.18</td>\n      <td>1.97</td>\n      <td>0.99</td>\n      <td>6.16</td>\n    </tr>\n    <tr>\n      <th>997</th>\n      <td>Game 997</td>\n      <td>PC</td>\n      <td>2020</td>\n      <td>Adventure</td>\n      <td>Ubisoft</td>\n      <td>4.42</td>\n      <td>2.41</td>\n      <td>1.38</td>\n      <td>0.41</td>\n      <td>8.62</td>\n    </tr>\n    <tr>\n      <th>998</th>\n      <td>Game 998</td>\n      <td>Switch</td>\n      <td>2012</td>\n      <td>Sports</td>\n      <td>Ubisoft</td>\n      <td>4.48</td>\n      <td>1.03</td>\n      <td>0.49</td>\n      <td>0.29</td>\n      <td>6.29</td>\n    </tr>\n  </tbody>\n</table>\n<p>999 rows × 10 columns</p>\n</div>"
     },
     "execution_count": 3,
     "metadata": {},
     "output_type": "execute_result"
    }
   ],
   "source": [
    "#Carga de los datos\n",
    "df = pd.read_csv('data/video_game_sales.csv')\n",
    "df.drop_duplicates()\n",
    "df.dropna()\n",
    "df.head(-1)"
   ],
   "metadata": {
    "collapsed": false,
    "ExecuteTime": {
     "end_time": "2024-04-14T23:01:31.011648Z",
     "start_time": "2024-04-14T23:01:30.989954Z"
    }
   },
   "id": "a09acd0825909f34",
   "execution_count": 3
  },
  {
   "cell_type": "code",
   "outputs": [
    {
     "data": {
      "text/plain": "         Name  Platform  Year_of_Release       Genre    Publisher  NA_Sales  \\\n2      Game 2  Xbox One             2003      Puzzle  Square Enix      4.59   \n5      Game 5       PS4             2004    Strategy        Indie      4.45   \n10    Game 10    Switch             2008  Simulation        Indie      3.16   \n13    Game 13       PS4             2013   Adventure     Nintendo      4.79   \n23    Game 23        PC             2003      Puzzle  Square Enix      2.17   \n..        ...       ...              ...         ...          ...       ...   \n962  Game 962       PS4             2002  Simulation  Square Enix      4.95   \n970  Game 970    Switch             2004   Adventure      Ubisoft      4.68   \n984  Game 984  Xbox One             2010      Puzzle   Activision      3.31   \n988  Game 988  Xbox One             2015      Action   Activision      4.52   \n997  Game 997        PC             2020   Adventure      Ubisoft      4.42   \n\n     EU_Sales  JP_Sales  Other_Sales  Global_Sales  \n2        0.82      1.72         0.91          8.04  \n5        1.03      1.56         0.44          7.48  \n10       1.60      1.51         0.94          7.21  \n13       0.91      1.98         0.74          8.42  \n23       2.80      1.66         0.38          7.01  \n..        ...       ...          ...           ...  \n962      1.54      1.36         0.86          8.71  \n970      0.62      1.59         0.83          7.72  \n984      1.54      1.26         0.94          7.05  \n988      2.16      1.78         0.18          8.64  \n997      2.41      1.38         0.41          8.62  \n\n[214 rows x 10 columns]",
      "text/html": "<div>\n<style scoped>\n    .dataframe tbody tr th:only-of-type {\n        vertical-align: middle;\n    }\n\n    .dataframe tbody tr th {\n        vertical-align: top;\n    }\n\n    .dataframe thead th {\n        text-align: right;\n    }\n</style>\n<table border=\"1\" class=\"dataframe\">\n  <thead>\n    <tr style=\"text-align: right;\">\n      <th></th>\n      <th>Name</th>\n      <th>Platform</th>\n      <th>Year_of_Release</th>\n      <th>Genre</th>\n      <th>Publisher</th>\n      <th>NA_Sales</th>\n      <th>EU_Sales</th>\n      <th>JP_Sales</th>\n      <th>Other_Sales</th>\n      <th>Global_Sales</th>\n    </tr>\n  </thead>\n  <tbody>\n    <tr>\n      <th>2</th>\n      <td>Game 2</td>\n      <td>Xbox One</td>\n      <td>2003</td>\n      <td>Puzzle</td>\n      <td>Square Enix</td>\n      <td>4.59</td>\n      <td>0.82</td>\n      <td>1.72</td>\n      <td>0.91</td>\n      <td>8.04</td>\n    </tr>\n    <tr>\n      <th>5</th>\n      <td>Game 5</td>\n      <td>PS4</td>\n      <td>2004</td>\n      <td>Strategy</td>\n      <td>Indie</td>\n      <td>4.45</td>\n      <td>1.03</td>\n      <td>1.56</td>\n      <td>0.44</td>\n      <td>7.48</td>\n    </tr>\n    <tr>\n      <th>10</th>\n      <td>Game 10</td>\n      <td>Switch</td>\n      <td>2008</td>\n      <td>Simulation</td>\n      <td>Indie</td>\n      <td>3.16</td>\n      <td>1.60</td>\n      <td>1.51</td>\n      <td>0.94</td>\n      <td>7.21</td>\n    </tr>\n    <tr>\n      <th>13</th>\n      <td>Game 13</td>\n      <td>PS4</td>\n      <td>2013</td>\n      <td>Adventure</td>\n      <td>Nintendo</td>\n      <td>4.79</td>\n      <td>0.91</td>\n      <td>1.98</td>\n      <td>0.74</td>\n      <td>8.42</td>\n    </tr>\n    <tr>\n      <th>23</th>\n      <td>Game 23</td>\n      <td>PC</td>\n      <td>2003</td>\n      <td>Puzzle</td>\n      <td>Square Enix</td>\n      <td>2.17</td>\n      <td>2.80</td>\n      <td>1.66</td>\n      <td>0.38</td>\n      <td>7.01</td>\n    </tr>\n    <tr>\n      <th>...</th>\n      <td>...</td>\n      <td>...</td>\n      <td>...</td>\n      <td>...</td>\n      <td>...</td>\n      <td>...</td>\n      <td>...</td>\n      <td>...</td>\n      <td>...</td>\n      <td>...</td>\n    </tr>\n    <tr>\n      <th>962</th>\n      <td>Game 962</td>\n      <td>PS4</td>\n      <td>2002</td>\n      <td>Simulation</td>\n      <td>Square Enix</td>\n      <td>4.95</td>\n      <td>1.54</td>\n      <td>1.36</td>\n      <td>0.86</td>\n      <td>8.71</td>\n    </tr>\n    <tr>\n      <th>970</th>\n      <td>Game 970</td>\n      <td>Switch</td>\n      <td>2004</td>\n      <td>Adventure</td>\n      <td>Ubisoft</td>\n      <td>4.68</td>\n      <td>0.62</td>\n      <td>1.59</td>\n      <td>0.83</td>\n      <td>7.72</td>\n    </tr>\n    <tr>\n      <th>984</th>\n      <td>Game 984</td>\n      <td>Xbox One</td>\n      <td>2010</td>\n      <td>Puzzle</td>\n      <td>Activision</td>\n      <td>3.31</td>\n      <td>1.54</td>\n      <td>1.26</td>\n      <td>0.94</td>\n      <td>7.05</td>\n    </tr>\n    <tr>\n      <th>988</th>\n      <td>Game 988</td>\n      <td>Xbox One</td>\n      <td>2015</td>\n      <td>Action</td>\n      <td>Activision</td>\n      <td>4.52</td>\n      <td>2.16</td>\n      <td>1.78</td>\n      <td>0.18</td>\n      <td>8.64</td>\n    </tr>\n    <tr>\n      <th>997</th>\n      <td>Game 997</td>\n      <td>PC</td>\n      <td>2020</td>\n      <td>Adventure</td>\n      <td>Ubisoft</td>\n      <td>4.42</td>\n      <td>2.41</td>\n      <td>1.38</td>\n      <td>0.41</td>\n      <td>8.62</td>\n    </tr>\n  </tbody>\n</table>\n<p>214 rows × 10 columns</p>\n</div>"
     },
     "execution_count": 4,
     "metadata": {},
     "output_type": "execute_result"
    }
   ],
   "source": [
    "sales = df[df[\"Global_Sales\"] > 7.0]\n",
    "sales.head(-1)\n",
    "\n",
    "# sales = df.query(\"Global_Sales > 1.0\")\n",
    "# print(sales[\"Name\"])\n",
    "# print(len(sales))"
   ],
   "metadata": {
    "collapsed": false,
    "ExecuteTime": {
     "end_time": "2024-04-14T23:01:31.021977Z",
     "start_time": "2024-04-14T23:01:31.013149Z"
    }
   },
   "id": "b3d7359f603f265d",
   "execution_count": 4
  },
  {
   "cell_type": "code",
   "outputs": [
    {
     "name": "stdout",
     "output_type": "stream",
     "text": [
      "Ventas Totales por Región (Millones):\n",
      "NA_Sales       2502.33\n",
      "EU_Sales       1478.01\n",
      "JP_Sales        996.42\n",
      "Other_Sales     502.24\n",
      "dtype: float64\n",
      "----------------\n",
      "Total\n",
      "5479.0\n"
     ]
    }
   ],
   "source": [
    "total_sales_by_region = df[['NA_Sales', 'EU_Sales', 'JP_Sales', 'Other_Sales']].sum()\n",
    "print(\"Ventas Totales por Región (Millones):\")\n",
    "print(total_sales_by_region)\n",
    "print(\"----------------\")\n",
    "print(\"Total\")\n",
    "print(total_sales_by_region.sum())"
   ],
   "metadata": {
    "collapsed": false,
    "ExecuteTime": {
     "end_time": "2024-04-14T23:01:31.027527Z",
     "start_time": "2024-04-14T23:01:31.023694Z"
    }
   },
   "id": "2741a1407b935ac0",
   "execution_count": 5
  },
  {
   "cell_type": "code",
   "outputs": [
    {
     "name": "stdout",
     "output_type": "stream",
     "text": [
      "Ventas Medias por Género:\n"
     ]
    },
    {
     "data": {
      "text/plain": "Genre\nAdventure    5.752484\nPuzzle       5.607260\nAction       5.516519\nSports       5.513086\nStrategy     5.448243\nName: Global_Sales, dtype: float64"
     },
     "execution_count": 6,
     "metadata": {},
     "output_type": "execute_result"
    }
   ],
   "source": [
    "# Agrupamos por genero, tomamos los valores de las ventas globales, calculaos su media y ordenamos de manera desendente\n",
    "average_sales_by_genre = df.groupby('Genre')['Global_Sales'].mean().sort_values(ascending=False)\n",
    "print(\"Ventas Medias por Género:\")\n",
    "average_sales_by_genre.head()\n",
    "# print(average_sales_by_genre)"
   ],
   "metadata": {
    "collapsed": false,
    "ExecuteTime": {
     "end_time": "2024-04-14T23:01:31.032493Z",
     "start_time": "2024-04-14T23:01:31.028410Z"
    }
   },
   "id": "17d413e97ea20455",
   "execution_count": 6
  },
  {
   "cell_type": "code",
   "outputs": [
    {
     "data": {
      "text/plain": "Genre            Action  Adventure  Puzzle    RPG  Simulation  Sports  \\\nYear_of_Release                                                         \n2000              43.66      59.68   30.97  12.02       12.91   38.59   \n2001              59.40      38.28   51.15  28.11       30.83   28.16   \n2002              38.40      52.02   30.52  38.58       33.28   33.22   \n2003              39.93      17.01   49.36  16.57       11.38   45.81   \n2004              39.23      50.25   38.84  33.87        5.73   47.78   \n2005              35.82      34.40   29.65   8.45       25.34   44.21   \n2006              42.21      16.53   39.23  48.59        5.64   57.22   \n2007              47.59      22.16   40.10  32.82       20.88   49.41   \n2008              13.79      24.23   58.13  17.03       57.85   42.60   \n2009               3.97      22.45   41.32  43.46       22.83   44.56   \n2010              18.82      56.77   43.02  10.12       37.82   30.48   \n2011              22.85      48.78   34.91  39.76       65.13   52.78   \n2012              22.19      39.26   34.91  24.16       46.97   35.18   \n2013              26.08      58.28   26.15  22.17       47.27   18.02   \n2014              28.84      33.55   39.37  60.11       44.24   46.79   \n2015              57.41      20.23    9.82  27.11       16.49   36.23   \n2016              43.77      62.01   35.40  23.19       37.62   45.67   \n2017              33.97      37.82   33.70  32.39       51.88   52.64   \n2018              57.72      44.25   16.73  19.45       20.87   46.68   \n2019              16.53      23.25   39.59  24.62       32.86   34.89   \n2020              12.84      72.57   46.48  29.77       42.92   25.89   \n\nGenre            Strategy  \nYear_of_Release            \n2000                25.92  \n2001                51.90  \n2002                28.82  \n2003                30.30  \n2004                46.18  \n2005                52.20  \n2006                24.81  \n2007                40.62  \n2008                37.65  \n2009                17.96  \n2010                51.31  \n2011                32.63  \n2012                15.10  \n2013                58.83  \n2014                47.78  \n2015                 7.89  \n2016                57.72  \n2017                50.25  \n2018                32.61  \n2019                45.29  \n2020                23.83  ",
      "text/html": "<div>\n<style scoped>\n    .dataframe tbody tr th:only-of-type {\n        vertical-align: middle;\n    }\n\n    .dataframe tbody tr th {\n        vertical-align: top;\n    }\n\n    .dataframe thead th {\n        text-align: right;\n    }\n</style>\n<table border=\"1\" class=\"dataframe\">\n  <thead>\n    <tr style=\"text-align: right;\">\n      <th>Genre</th>\n      <th>Action</th>\n      <th>Adventure</th>\n      <th>Puzzle</th>\n      <th>RPG</th>\n      <th>Simulation</th>\n      <th>Sports</th>\n      <th>Strategy</th>\n    </tr>\n    <tr>\n      <th>Year_of_Release</th>\n      <th></th>\n      <th></th>\n      <th></th>\n      <th></th>\n      <th></th>\n      <th></th>\n      <th></th>\n    </tr>\n  </thead>\n  <tbody>\n    <tr>\n      <th>2000</th>\n      <td>43.66</td>\n      <td>59.68</td>\n      <td>30.97</td>\n      <td>12.02</td>\n      <td>12.91</td>\n      <td>38.59</td>\n      <td>25.92</td>\n    </tr>\n    <tr>\n      <th>2001</th>\n      <td>59.40</td>\n      <td>38.28</td>\n      <td>51.15</td>\n      <td>28.11</td>\n      <td>30.83</td>\n      <td>28.16</td>\n      <td>51.90</td>\n    </tr>\n    <tr>\n      <th>2002</th>\n      <td>38.40</td>\n      <td>52.02</td>\n      <td>30.52</td>\n      <td>38.58</td>\n      <td>33.28</td>\n      <td>33.22</td>\n      <td>28.82</td>\n    </tr>\n    <tr>\n      <th>2003</th>\n      <td>39.93</td>\n      <td>17.01</td>\n      <td>49.36</td>\n      <td>16.57</td>\n      <td>11.38</td>\n      <td>45.81</td>\n      <td>30.30</td>\n    </tr>\n    <tr>\n      <th>2004</th>\n      <td>39.23</td>\n      <td>50.25</td>\n      <td>38.84</td>\n      <td>33.87</td>\n      <td>5.73</td>\n      <td>47.78</td>\n      <td>46.18</td>\n    </tr>\n    <tr>\n      <th>2005</th>\n      <td>35.82</td>\n      <td>34.40</td>\n      <td>29.65</td>\n      <td>8.45</td>\n      <td>25.34</td>\n      <td>44.21</td>\n      <td>52.20</td>\n    </tr>\n    <tr>\n      <th>2006</th>\n      <td>42.21</td>\n      <td>16.53</td>\n      <td>39.23</td>\n      <td>48.59</td>\n      <td>5.64</td>\n      <td>57.22</td>\n      <td>24.81</td>\n    </tr>\n    <tr>\n      <th>2007</th>\n      <td>47.59</td>\n      <td>22.16</td>\n      <td>40.10</td>\n      <td>32.82</td>\n      <td>20.88</td>\n      <td>49.41</td>\n      <td>40.62</td>\n    </tr>\n    <tr>\n      <th>2008</th>\n      <td>13.79</td>\n      <td>24.23</td>\n      <td>58.13</td>\n      <td>17.03</td>\n      <td>57.85</td>\n      <td>42.60</td>\n      <td>37.65</td>\n    </tr>\n    <tr>\n      <th>2009</th>\n      <td>3.97</td>\n      <td>22.45</td>\n      <td>41.32</td>\n      <td>43.46</td>\n      <td>22.83</td>\n      <td>44.56</td>\n      <td>17.96</td>\n    </tr>\n    <tr>\n      <th>2010</th>\n      <td>18.82</td>\n      <td>56.77</td>\n      <td>43.02</td>\n      <td>10.12</td>\n      <td>37.82</td>\n      <td>30.48</td>\n      <td>51.31</td>\n    </tr>\n    <tr>\n      <th>2011</th>\n      <td>22.85</td>\n      <td>48.78</td>\n      <td>34.91</td>\n      <td>39.76</td>\n      <td>65.13</td>\n      <td>52.78</td>\n      <td>32.63</td>\n    </tr>\n    <tr>\n      <th>2012</th>\n      <td>22.19</td>\n      <td>39.26</td>\n      <td>34.91</td>\n      <td>24.16</td>\n      <td>46.97</td>\n      <td>35.18</td>\n      <td>15.10</td>\n    </tr>\n    <tr>\n      <th>2013</th>\n      <td>26.08</td>\n      <td>58.28</td>\n      <td>26.15</td>\n      <td>22.17</td>\n      <td>47.27</td>\n      <td>18.02</td>\n      <td>58.83</td>\n    </tr>\n    <tr>\n      <th>2014</th>\n      <td>28.84</td>\n      <td>33.55</td>\n      <td>39.37</td>\n      <td>60.11</td>\n      <td>44.24</td>\n      <td>46.79</td>\n      <td>47.78</td>\n    </tr>\n    <tr>\n      <th>2015</th>\n      <td>57.41</td>\n      <td>20.23</td>\n      <td>9.82</td>\n      <td>27.11</td>\n      <td>16.49</td>\n      <td>36.23</td>\n      <td>7.89</td>\n    </tr>\n    <tr>\n      <th>2016</th>\n      <td>43.77</td>\n      <td>62.01</td>\n      <td>35.40</td>\n      <td>23.19</td>\n      <td>37.62</td>\n      <td>45.67</td>\n      <td>57.72</td>\n    </tr>\n    <tr>\n      <th>2017</th>\n      <td>33.97</td>\n      <td>37.82</td>\n      <td>33.70</td>\n      <td>32.39</td>\n      <td>51.88</td>\n      <td>52.64</td>\n      <td>50.25</td>\n    </tr>\n    <tr>\n      <th>2018</th>\n      <td>57.72</td>\n      <td>44.25</td>\n      <td>16.73</td>\n      <td>19.45</td>\n      <td>20.87</td>\n      <td>46.68</td>\n      <td>32.61</td>\n    </tr>\n    <tr>\n      <th>2019</th>\n      <td>16.53</td>\n      <td>23.25</td>\n      <td>39.59</td>\n      <td>24.62</td>\n      <td>32.86</td>\n      <td>34.89</td>\n      <td>45.29</td>\n    </tr>\n    <tr>\n      <th>2020</th>\n      <td>12.84</td>\n      <td>72.57</td>\n      <td>46.48</td>\n      <td>29.77</td>\n      <td>42.92</td>\n      <td>25.89</td>\n      <td>23.83</td>\n    </tr>\n  </tbody>\n</table>\n</div>"
     },
     "execution_count": 32,
     "metadata": {},
     "output_type": "execute_result"
    }
   ],
   "source": [
    "d = df.groupby(['Year_of_Release', 'Genre'])['Global_Sales'].sum().unstack()\n",
    "d.head(-1)"
   ],
   "metadata": {
    "collapsed": false,
    "ExecuteTime": {
     "end_time": "2024-04-14T23:19:00.504392Z",
     "start_time": "2024-04-14T23:19:00.489201Z"
    }
   },
   "id": "77c1166bc3a19fb1",
   "execution_count": 32
  },
  {
   "cell_type": "code",
   "outputs": [
    {
     "data": {
      "text/plain": "Genre            Action  Adventure  Puzzle    RPG  Simulation  Sports  \\\nYear_of_Release                                                         \n2000              43.66      59.68   30.97  12.02       12.91   38.59   \n2001              59.40      38.28   51.15  28.11       30.83   28.16   \n2002              38.40      52.02   30.52  38.58       33.28   33.22   \n2003              39.93      17.01   49.36  16.57       11.38   45.81   \n2004              39.23      50.25   38.84  33.87        5.73   47.78   \n2005              35.82      34.40   29.65   8.45       25.34   44.21   \n2006              42.21      16.53   39.23  48.59        5.64   57.22   \n2007              47.59      22.16   40.10  32.82       20.88   49.41   \n2008              13.79      24.23   58.13  17.03       57.85   42.60   \n2009               3.97      22.45   41.32  43.46       22.83   44.56   \n2010              18.82      56.77   43.02  10.12       37.82   30.48   \n2011              22.85      48.78   34.91  39.76       65.13   52.78   \n2012              22.19      39.26   34.91  24.16       46.97   35.18   \n2013              26.08      58.28   26.15  22.17       47.27   18.02   \n2014              28.84      33.55   39.37  60.11       44.24   46.79   \n2015              57.41      20.23    9.82  27.11       16.49   36.23   \n2016              43.77      62.01   35.40  23.19       37.62   45.67   \n2017              33.97      37.82   33.70  32.39       51.88   52.64   \n2018              57.72      44.25   16.73  19.45       20.87   46.68   \n2019              16.53      23.25   39.59  24.62       32.86   34.89   \n2020              12.84      72.57   46.48  29.77       42.92   25.89   \n\nGenre            Strategy  \nYear_of_Release            \n2000                25.92  \n2001                51.90  \n2002                28.82  \n2003                30.30  \n2004                46.18  \n2005                52.20  \n2006                24.81  \n2007                40.62  \n2008                37.65  \n2009                17.96  \n2010                51.31  \n2011                32.63  \n2012                15.10  \n2013                58.83  \n2014                47.78  \n2015                 7.89  \n2016                57.72  \n2017                50.25  \n2018                32.61  \n2019                45.29  \n2020                23.83  ",
      "text/html": "<div>\n<style scoped>\n    .dataframe tbody tr th:only-of-type {\n        vertical-align: middle;\n    }\n\n    .dataframe tbody tr th {\n        vertical-align: top;\n    }\n\n    .dataframe thead th {\n        text-align: right;\n    }\n</style>\n<table border=\"1\" class=\"dataframe\">\n  <thead>\n    <tr style=\"text-align: right;\">\n      <th>Genre</th>\n      <th>Action</th>\n      <th>Adventure</th>\n      <th>Puzzle</th>\n      <th>RPG</th>\n      <th>Simulation</th>\n      <th>Sports</th>\n      <th>Strategy</th>\n    </tr>\n    <tr>\n      <th>Year_of_Release</th>\n      <th></th>\n      <th></th>\n      <th></th>\n      <th></th>\n      <th></th>\n      <th></th>\n      <th></th>\n    </tr>\n  </thead>\n  <tbody>\n    <tr>\n      <th>2000</th>\n      <td>43.66</td>\n      <td>59.68</td>\n      <td>30.97</td>\n      <td>12.02</td>\n      <td>12.91</td>\n      <td>38.59</td>\n      <td>25.92</td>\n    </tr>\n    <tr>\n      <th>2001</th>\n      <td>59.40</td>\n      <td>38.28</td>\n      <td>51.15</td>\n      <td>28.11</td>\n      <td>30.83</td>\n      <td>28.16</td>\n      <td>51.90</td>\n    </tr>\n    <tr>\n      <th>2002</th>\n      <td>38.40</td>\n      <td>52.02</td>\n      <td>30.52</td>\n      <td>38.58</td>\n      <td>33.28</td>\n      <td>33.22</td>\n      <td>28.82</td>\n    </tr>\n    <tr>\n      <th>2003</th>\n      <td>39.93</td>\n      <td>17.01</td>\n      <td>49.36</td>\n      <td>16.57</td>\n      <td>11.38</td>\n      <td>45.81</td>\n      <td>30.30</td>\n    </tr>\n    <tr>\n      <th>2004</th>\n      <td>39.23</td>\n      <td>50.25</td>\n      <td>38.84</td>\n      <td>33.87</td>\n      <td>5.73</td>\n      <td>47.78</td>\n      <td>46.18</td>\n    </tr>\n    <tr>\n      <th>2005</th>\n      <td>35.82</td>\n      <td>34.40</td>\n      <td>29.65</td>\n      <td>8.45</td>\n      <td>25.34</td>\n      <td>44.21</td>\n      <td>52.20</td>\n    </tr>\n    <tr>\n      <th>2006</th>\n      <td>42.21</td>\n      <td>16.53</td>\n      <td>39.23</td>\n      <td>48.59</td>\n      <td>5.64</td>\n      <td>57.22</td>\n      <td>24.81</td>\n    </tr>\n    <tr>\n      <th>2007</th>\n      <td>47.59</td>\n      <td>22.16</td>\n      <td>40.10</td>\n      <td>32.82</td>\n      <td>20.88</td>\n      <td>49.41</td>\n      <td>40.62</td>\n    </tr>\n    <tr>\n      <th>2008</th>\n      <td>13.79</td>\n      <td>24.23</td>\n      <td>58.13</td>\n      <td>17.03</td>\n      <td>57.85</td>\n      <td>42.60</td>\n      <td>37.65</td>\n    </tr>\n    <tr>\n      <th>2009</th>\n      <td>3.97</td>\n      <td>22.45</td>\n      <td>41.32</td>\n      <td>43.46</td>\n      <td>22.83</td>\n      <td>44.56</td>\n      <td>17.96</td>\n    </tr>\n    <tr>\n      <th>2010</th>\n      <td>18.82</td>\n      <td>56.77</td>\n      <td>43.02</td>\n      <td>10.12</td>\n      <td>37.82</td>\n      <td>30.48</td>\n      <td>51.31</td>\n    </tr>\n    <tr>\n      <th>2011</th>\n      <td>22.85</td>\n      <td>48.78</td>\n      <td>34.91</td>\n      <td>39.76</td>\n      <td>65.13</td>\n      <td>52.78</td>\n      <td>32.63</td>\n    </tr>\n    <tr>\n      <th>2012</th>\n      <td>22.19</td>\n      <td>39.26</td>\n      <td>34.91</td>\n      <td>24.16</td>\n      <td>46.97</td>\n      <td>35.18</td>\n      <td>15.10</td>\n    </tr>\n    <tr>\n      <th>2013</th>\n      <td>26.08</td>\n      <td>58.28</td>\n      <td>26.15</td>\n      <td>22.17</td>\n      <td>47.27</td>\n      <td>18.02</td>\n      <td>58.83</td>\n    </tr>\n    <tr>\n      <th>2014</th>\n      <td>28.84</td>\n      <td>33.55</td>\n      <td>39.37</td>\n      <td>60.11</td>\n      <td>44.24</td>\n      <td>46.79</td>\n      <td>47.78</td>\n    </tr>\n    <tr>\n      <th>2015</th>\n      <td>57.41</td>\n      <td>20.23</td>\n      <td>9.82</td>\n      <td>27.11</td>\n      <td>16.49</td>\n      <td>36.23</td>\n      <td>7.89</td>\n    </tr>\n    <tr>\n      <th>2016</th>\n      <td>43.77</td>\n      <td>62.01</td>\n      <td>35.40</td>\n      <td>23.19</td>\n      <td>37.62</td>\n      <td>45.67</td>\n      <td>57.72</td>\n    </tr>\n    <tr>\n      <th>2017</th>\n      <td>33.97</td>\n      <td>37.82</td>\n      <td>33.70</td>\n      <td>32.39</td>\n      <td>51.88</td>\n      <td>52.64</td>\n      <td>50.25</td>\n    </tr>\n    <tr>\n      <th>2018</th>\n      <td>57.72</td>\n      <td>44.25</td>\n      <td>16.73</td>\n      <td>19.45</td>\n      <td>20.87</td>\n      <td>46.68</td>\n      <td>32.61</td>\n    </tr>\n    <tr>\n      <th>2019</th>\n      <td>16.53</td>\n      <td>23.25</td>\n      <td>39.59</td>\n      <td>24.62</td>\n      <td>32.86</td>\n      <td>34.89</td>\n      <td>45.29</td>\n    </tr>\n    <tr>\n      <th>2020</th>\n      <td>12.84</td>\n      <td>72.57</td>\n      <td>46.48</td>\n      <td>29.77</td>\n      <td>42.92</td>\n      <td>25.89</td>\n      <td>23.83</td>\n    </tr>\n  </tbody>\n</table>\n</div>"
     },
     "execution_count": 33,
     "metadata": {},
     "output_type": "execute_result"
    }
   ],
   "source": [
    "pivot_table = df.pivot_table(values='Global_Sales', index='Year_of_Release', columns='Genre',\n",
    "aggfunc='sum')\n",
    "\n",
    "pivot_table.head(-1)"
   ],
   "metadata": {
    "collapsed": false,
    "ExecuteTime": {
     "end_time": "2024-04-14T23:19:26.570090Z",
     "start_time": "2024-04-14T23:19:26.546036Z"
    }
   },
   "id": "6bb3dc421acae5a5",
   "execution_count": 33
  },
  {
   "cell_type": "code",
   "outputs": [],
   "source": [],
   "metadata": {
    "collapsed": false
   },
   "id": "6c98ed3cb5c5ab3"
  }
 ],
 "metadata": {
  "kernelspec": {
   "display_name": "Python 3",
   "language": "python",
   "name": "python3"
  },
  "language_info": {
   "codemirror_mode": {
    "name": "ipython",
    "version": 2
   },
   "file_extension": ".py",
   "mimetype": "text/x-python",
   "name": "python",
   "nbconvert_exporter": "python",
   "pygments_lexer": "ipython2",
   "version": "2.7.6"
  }
 },
 "nbformat": 4,
 "nbformat_minor": 5
}
