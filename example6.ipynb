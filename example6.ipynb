{
 "cells": [
  {
   "cell_type": "markdown",
   "id": "ae67f0afa0ab3734",
   "metadata": {
    "collapsed": false
   },
   "source": [
    "# Install\n",
    "\n",
    "```python\n",
    "import sys\n",
    "import os\n",
    "import math\n",
    "```"
   ]
  },
  {
   "cell_type": "code",
   "execution_count": 1,
   "id": "360850f60f08e3ba",
   "metadata": {
    "collapsed": false,
    "ExecuteTime": {
     "end_time": "2024-03-26T00:36:07.513583Z",
     "start_time": "2024-03-26T00:36:07.510693Z"
    }
   },
   "outputs": [
    {
     "name": "stdout",
     "output_type": "stream",
     "text": [
      "3\n"
     ]
    }
   ],
   "source": [
    "print(1 + 2)"
   ]
  },
  {
   "cell_type": "code",
   "execution_count": 1,
   "id": "da23ccc85656728e",
   "metadata": {
    "collapsed": false
   },
   "outputs": [
    {
     "name": "stdout",
     "output_type": "stream",
     "text": [
      "6\n"
     ]
    }
   ],
   "source": [
    "print(1+2+3)"
   ]
  },
  {
   "cell_type": "code",
   "execution_count": null,
   "id": "2e9552df-5761-4b94-bca2-29bf81f6edee",
   "metadata": {},
   "outputs": [],
   "source": []
  }
 ],
 "metadata": {
  "kernelspec": {
   "display_name": "Python 3 (ipykernel)",
   "language": "python",
   "name": "python3"
  },
  "language_info": {
   "codemirror_mode": {
    "name": "ipython",
    "version": 3
   },
   "file_extension": ".py",
   "mimetype": "text/x-python",
   "name": "python",
   "nbconvert_exporter": "python",
   "pygments_lexer": "ipython3",
   "version": "3.12.0"
  }
 },
 "nbformat": 4,
 "nbformat_minor": 5
}
