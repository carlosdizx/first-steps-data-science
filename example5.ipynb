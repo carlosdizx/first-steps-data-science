{
 "cells": [
  {
   "cell_type": "code",
   "outputs": [
    {
     "name": "stdout",
     "output_type": "stream",
     "text": [
      "Ernesto Basante Your balance is 0\n",
      "Add 10\n",
      "Ernesto Basante Your balance is 10\n",
      "Add 50\n",
      "Ernesto Basante Your balance is 60\n",
      "Subtract -30\n",
      "Ernesto Basante Your balance is 30\n",
      "-----------------\n",
      "Carlos Diaz Your balance is 0\n",
      "Add 1000\n",
      "Carlos Diaz Your balance is 1000\n",
      "Add 250\n",
      "Carlos Diaz Your balance is 1250\n",
      "Subtract -30\n",
      "Carlos Diaz Your balance is 1220\n",
      "Subtract -20\n",
      "Carlos Diaz Your balance is 1200\n",
      "Subtract -80\n",
      "Carlos Diaz Your balance is 1120\n",
      "Subtract -395\n",
      "Carlos Diaz Your balance is 725\n",
      "Subtract -120\n",
      "Carlos Diaz Your balance is 605\n"
     ]
    }
   ],
   "source": [
    "class account_bank:\n",
    "    def __init__(self, name):\n",
    "        self.name = name\n",
    "        self.balance = 0\n",
    "        self.__showBalance()\n",
    "    \n",
    "    def debit(self, value):\n",
    "        if value != 0:\n",
    "            if value > 0: print(f'Add {value}')\n",
    "            else: print(f'Subtract {value}')\n",
    "            self.balance = self.balance + value\n",
    "            self.__showBalance()\n",
    "        else: return 'Balance cannot be zero' \n",
    "        \n",
    "    def __showBalance(self):\n",
    "        print(f\"{self.name} Your balance is {self.balance}\")\n",
    "\n",
    "account1 = account_bank(\"Ernesto Basante\")\n",
    "account1.debit(10)\n",
    "account1.debit(50)\n",
    "account1.debit(-30)\n",
    "\n",
    "print('-----------------')\n",
    "\n",
    "account2 = account_bank(\"Carlos Diaz\")\n",
    "account2.debit(1000)\n",
    "account2.debit(250)\n",
    "account2.debit(-30)\n",
    "account2.debit(-20)\n",
    "account2.debit(-80)\n",
    "account2.debit(-395)\n",
    "account2.debit(-120)"
   ],
   "metadata": {
    "collapsed": false,
    "ExecuteTime": {
     "end_time": "2024-03-21T01:43:30.317840Z",
     "start_time": "2024-03-21T01:43:30.311616Z"
    }
   },
   "id": "3aae16aa96be7d5b",
   "execution_count": 29
  },
  {
   "cell_type": "code",
   "outputs": [
    {
     "name": "stdout",
     "output_type": "stream",
     "text": [
      "Car band: Mazda and model: Mz 600\n",
      "Car band: Renault and model: Megan\n",
      "Car band: Toyota and model: Hilux\n",
      "Car band: Toyota and model: Corrola\n"
     ]
    }
   ],
   "source": [
    "class Vehicle:\n",
    "    def __init__(self, brand, model):\n",
    "        self.brand = brand\n",
    "        self.model = model\n",
    "        \n",
    "    def showInfo(self):\n",
    "        print(f'Car band: {self.brand} and model: {self.model}')\n",
    "        \n",
    "class Car(Vehicle):\n",
    "    def __init__(self, brand, model, typeCar):\n",
    "        super().__init__(brand, model)\n",
    "        self.typeCar = typeCar\n",
    "\n",
    "car1 = Car(\"Mazda\", 'Mz 600', 'Automobile')\n",
    "car1.showInfo()\n",
    "\n",
    "car2 = Car(\"Renault\", 'Megan', 'Automobile')\n",
    "car2.showInfo()\n",
    "\n",
    "car3 = Car(\"Toyota\", 'Hilux', 'Camioneta')\n",
    "car3.showInfo()\n",
    "\n",
    "car4 = Car(\"Toyota\", 'Corrola', 'Automobile')\n",
    "car4.showInfo()"
   ],
   "metadata": {
    "collapsed": false,
    "ExecuteTime": {
     "end_time": "2024-03-21T01:51:49.566343Z",
     "start_time": "2024-03-21T01:51:49.558919Z"
    }
   },
   "id": "8d4ac2c9acf32cdb",
   "execution_count": 32
  },
  {
   "cell_type": "code",
   "outputs": [
    {
     "name": "stdout",
     "output_type": "stream",
     "text": [
      "Guff\n",
      "Miau\n"
     ]
    }
   ],
   "source": [
    "class Animal:\n",
    "    def sound(self):\n",
    "        pass\n",
    "\n",
    "class Dog(Animal):\n",
    "    def sound(self):\n",
    "        print(\"Guff\")\n",
    "\n",
    "class Cat(Animal):\n",
    "    def sound(self):\n",
    "        print(\"Miau\")\n",
    "        \n",
    "dog = Dog()\n",
    "cat = Cat()\n",
    "\n",
    "dog.sound()\n",
    "cat.sound()"
   ],
   "metadata": {
    "collapsed": false,
    "ExecuteTime": {
     "end_time": "2024-03-21T01:59:36.057055Z",
     "start_time": "2024-03-21T01:59:36.050866Z"
    }
   },
   "id": "ab629aa577c82923",
   "execution_count": 34
  }
 ],
 "metadata": {
  "kernelspec": {
   "display_name": "Python 3",
   "language": "python",
   "name": "python3"
  },
  "language_info": {
   "codemirror_mode": {
    "name": "ipython",
    "version": 2
   },
   "file_extension": ".py",
   "mimetype": "text/x-python",
   "name": "python",
   "nbconvert_exporter": "python",
   "pygments_lexer": "ipython2",
   "version": "2.7.6"
  }
 },
 "nbformat": 4,
 "nbformat_minor": 5
}
