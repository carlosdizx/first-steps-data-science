{
 "cells": [
  {
   "cell_type": "code",
   "outputs": [],
   "source": [
    "import sqlite3\n",
    "import numpy as np"
   ],
   "metadata": {
    "collapsed": false,
    "ExecuteTime": {
     "end_time": "2024-04-21T19:54:51.828991Z",
     "start_time": "2024-04-21T19:54:51.825596Z"
    }
   },
   "id": "76c8afc43081012c",
   "execution_count": 167
  },
  {
   "cell_type": "code",
   "outputs": [],
   "source": [
    "database_name = 'clients.db'"
   ],
   "metadata": {
    "collapsed": false,
    "ExecuteTime": {
     "end_time": "2024-04-21T19:54:52.151728Z",
     "start_time": "2024-04-21T19:54:52.149052Z"
    }
   },
   "id": "1d4fae13708ba8aa",
   "execution_count": 168
  },
  {
   "cell_type": "code",
   "outputs": [],
   "source": [
    "conn = sqlite3.connect(database_name)\n",
    "c = conn.cursor()\n",
    "\n",
    "# Crear tabla de clientes\n",
    "c.execute('''CREATE TABLE IF NOT EXISTS clients (\n",
    "                    id INTEGER PRIMARY KEY,\n",
    "                    name TEXT unique,\n",
    "                    city TEXT,\n",
    "                    quantity_sales INTEGER\n",
    "                )''')\n",
    "\n",
    "# Create complaints table\n",
    "c.execute('''CREATE TABLE IF NOT EXISTS complaints (\n",
    "                    id INTEGER PRIMARY KEY,\n",
    "                    client_id INTEGER,\n",
    "                    quantity INTEGER,\n",
    "                    FOREIGN KEY (client_id) REFERENCES clients(id)\n",
    "                )''')\n",
    "\n",
    "conn.commit()\n",
    "conn.close()"
   ],
   "metadata": {
    "collapsed": false,
    "ExecuteTime": {
     "end_time": "2024-04-21T19:54:52.212585Z",
     "start_time": "2024-04-21T19:54:52.206439Z"
    }
   },
   "id": "33e79a77c9e95beb",
   "execution_count": 169
  },
  {
   "cell_type": "code",
   "outputs": [],
   "source": [
    "latam_cities = ['CDMX', 'Buenos Aires', 'São Paulo', 'Lima', 'Bogotá', 'Santiago', 'Caracas', 'Río de Janeiro', 'La Habana', 'Quito']\n",
    "\n",
    "clients = [{'name': f'Client {x+1}', 'sales': int(np.random.exponential(scale=1000))} for x in range(100000)]\n",
    "\n",
    "conn = sqlite3.connect(database_name)\n",
    "c = conn.cursor()\n",
    "\n",
    "for client in clients:\n",
    "   name = client['name']\n",
    "   sales = client['sales']\n",
    "   \n",
    "   rand = np.random.rand()\n",
    "   if rand < 0.2:\n",
    "      if rand < 0.1:\n",
    "         city = 'CDMX'\n",
    "      else:\n",
    "         city = 'Bogotá'\n",
    "   else:\n",
    "      city = np.random.choice(latam_cities) \n",
    "   c.execute('''INSERT INTO clients (name, city, quantity_sales) VALUES (?, ?, ?)''', (name, city, sales ))\n",
    "\n",
    "conn.commit()\n",
    "conn.close()"
   ],
   "metadata": {
    "collapsed": false,
    "ExecuteTime": {
     "end_time": "2024-04-21T19:54:53.016322Z",
     "start_time": "2024-04-21T19:54:52.278911Z"
    }
   },
   "id": "de91f0890e16a1d7",
   "execution_count": 170
  },
  {
   "cell_type": "code",
   "outputs": [],
   "source": [
    "# ----------------- Init Populate Complaints"
   ],
   "metadata": {
    "collapsed": false,
    "ExecuteTime": {
     "end_time": "2024-04-21T19:54:53.020248Z",
     "start_time": "2024-04-21T19:54:53.018137Z"
    }
   },
   "id": "4afeffc6d1d2ca0c",
   "execution_count": 171
  },
  {
   "cell_type": "code",
   "outputs": [],
   "source": [
    "mean_complaints = 3 \n",
    "std_dev_complaints = 1.2\n",
    "complaints = np.random.normal(mean_complaints, std_dev_complaints, 60000)\n",
    "\n",
    "conn = sqlite3.connect(database_name)\n",
    "c = conn.cursor()\n",
    "\n",
    "for i in complaints:\n",
    "    client = np.random.choice(clients)\n",
    "    client_id, *_ = reversed(client['name'].split())\n",
    "\n",
    "    complaint = int(i)\n",
    "    c.execute('''INSERT INTO complaints (client_id, quantity) VALUES (?, ?)''', (client_id, complaint))\n",
    "\n",
    "conn.commit()\n",
    "conn.close()"
   ],
   "metadata": {
    "collapsed": false,
    "ExecuteTime": {
     "end_time": "2024-04-21T19:59:42.692837Z",
     "start_time": "2024-04-21T19:54:53.021340Z"
    }
   },
   "id": "70edbaffd8c5a540",
   "execution_count": 172
  },
  {
   "cell_type": "code",
   "outputs": [],
   "source": [
    "mean_complaints = 3 \n",
    "std_dev_complaints = 1.2\n",
    "complaints = np.random.normal(mean_complaints, std_dev_complaints, 60000)\n",
    "\n",
    "conn = sqlite3.connect(database_name)\n",
    "c = conn.cursor()\n",
    "\n",
    "for i in complaints:\n",
    "    client = np.random.choice(clients)\n",
    "    client_id, *_ = reversed(client['name'].split())\n",
    "\n",
    "    complaint = int(i)\n",
    "    c.execute('''INSERT INTO complaints (client_id, quantity) VALUES (?, ?)''', (client_id, complaint))\n",
    "\n",
    "conn.commit()\n",
    "conn.close()"
   ],
   "metadata": {
    "collapsed": false,
    "ExecuteTime": {
     "end_time": "2024-04-21T20:04:30.826333Z",
     "start_time": "2024-04-21T19:59:42.697088Z"
    }
   },
   "id": "d4b2ff06d76d2a3d",
   "execution_count": 173
  },
  {
   "cell_type": "code",
   "outputs": [],
   "source": [
    "mean_complaints = 3 \n",
    "std_dev_complaints = 1.2\n",
    "complaints = np.random.normal(mean_complaints, std_dev_complaints, 60000)\n",
    "\n",
    "conn = sqlite3.connect(database_name)\n",
    "c = conn.cursor()\n",
    "\n",
    "for i in complaints:\n",
    "    client = np.random.choice(clients)\n",
    "    client_id, *_ = reversed(client['name'].split())\n",
    "\n",
    "    complaint = int(i)\n",
    "    c.execute('''INSERT INTO complaints (client_id, quantity) VALUES (?, ?)''', (client_id, complaint))\n",
    "\n",
    "conn.commit()\n",
    "conn.close()"
   ],
   "metadata": {
    "collapsed": false,
    "ExecuteTime": {
     "end_time": "2024-04-21T20:09:38.006089Z",
     "start_time": "2024-04-21T20:04:30.827795Z"
    }
   },
   "id": "d22cda7add812a91",
   "execution_count": 174
  },
  {
   "cell_type": "code",
   "outputs": [],
   "source": [
    "mean_complaints = 3 \n",
    "std_dev_complaints = 1.2\n",
    "complaints = np.random.normal(mean_complaints, std_dev_complaints, 60000)\n",
    "\n",
    "conn = sqlite3.connect(database_name)\n",
    "c = conn.cursor()\n",
    "\n",
    "for i in complaints:\n",
    "    client = np.random.choice(clients)\n",
    "    client_id, *_ = reversed(client['name'].split())\n",
    "\n",
    "    complaint = int(i)\n",
    "    c.execute('''INSERT INTO complaints (client_id, quantity) VALUES (?, ?)''', (client_id, complaint))\n",
    "\n",
    "conn.commit()\n",
    "conn.close()"
   ],
   "metadata": {
    "collapsed": false,
    "ExecuteTime": {
     "end_time": "2024-04-21T20:14:46.421581Z",
     "start_time": "2024-04-21T20:09:38.009143Z"
    }
   },
   "id": "2781af9c335b8542",
   "execution_count": 175
  },
  {
   "cell_type": "code",
   "outputs": [],
   "source": [
    "mean_complaints = 3 \n",
    "std_dev_complaints = 1.2\n",
    "complaints = np.random.normal(mean_complaints, std_dev_complaints, 60000)\n",
    "\n",
    "conn = sqlite3.connect(database_name)\n",
    "c = conn.cursor()\n",
    "\n",
    "for i in complaints:\n",
    "    client = np.random.choice(clients)\n",
    "    client_id, *_ = reversed(client['name'].split())\n",
    "\n",
    "    complaint = int(i)\n",
    "    c.execute('''INSERT INTO complaints (client_id, quantity) VALUES (?, ?)''', (client_id, complaint))\n",
    "\n",
    "conn.commit()\n",
    "conn.close()"
   ],
   "metadata": {
    "collapsed": false,
    "ExecuteTime": {
     "end_time": "2024-04-21T20:19:57.402726Z",
     "start_time": "2024-04-21T20:14:46.424233Z"
    }
   },
   "id": "3dc8b26fb582beba",
   "execution_count": 176
  },
  {
   "cell_type": "code",
   "outputs": [],
   "source": [
    "mean_complaints = 3 \n",
    "std_dev_complaints = 1.2\n",
    "complaints = np.random.normal(mean_complaints, std_dev_complaints, 60000)\n",
    "\n",
    "conn = sqlite3.connect(database_name)\n",
    "c = conn.cursor()\n",
    "\n",
    "for i in complaints:\n",
    "    client = np.random.choice(clients)\n",
    "    client_id, *_ = reversed(client['name'].split())\n",
    "\n",
    "    complaint = int(i)\n",
    "    c.execute('''INSERT INTO complaints (client_id, quantity) VALUES (?, ?)''', (client_id, complaint))\n",
    "\n",
    "conn.commit()\n",
    "conn.close()"
   ],
   "metadata": {
    "collapsed": false,
    "ExecuteTime": {
     "end_time": "2024-04-21T20:25:12.265704Z",
     "start_time": "2024-04-21T20:19:57.404226Z"
    }
   },
   "id": "45e9e431faf6fb31",
   "execution_count": 177
  },
  {
   "cell_type": "code",
   "outputs": [],
   "source": [
    "mean_complaints = 3 \n",
    "std_dev_complaints = 1.2\n",
    "complaints = np.random.normal(mean_complaints, std_dev_complaints, 60000)\n",
    "\n",
    "conn = sqlite3.connect(database_name)\n",
    "c = conn.cursor()\n",
    "\n",
    "for i in complaints:\n",
    "    client = np.random.choice(clients)\n",
    "    client_id, *_ = reversed(client['name'].split())\n",
    "\n",
    "    complaint = int(i)\n",
    "    c.execute('''INSERT INTO complaints (client_id, quantity) VALUES (?, ?)''', (client_id, complaint))\n",
    "\n",
    "conn.commit()\n",
    "conn.close()"
   ],
   "metadata": {
    "collapsed": false,
    "ExecuteTime": {
     "end_time": "2024-04-21T20:30:28.360491Z",
     "start_time": "2024-04-21T20:25:12.268536Z"
    }
   },
   "id": "84d04ed1fbccf02e",
   "execution_count": 178
  },
  {
   "cell_type": "code",
   "outputs": [],
   "source": [
    "mean_complaints = 3 \n",
    "std_dev_complaints = 1.2\n",
    "complaints = np.random.normal(mean_complaints, std_dev_complaints, 60000)\n",
    "\n",
    "conn = sqlite3.connect(database_name)\n",
    "c = conn.cursor()\n",
    "\n",
    "for i in complaints:\n",
    "    client = np.random.choice(clients)\n",
    "    client_id, *_ = reversed(client['name'].split())\n",
    "\n",
    "    complaint = int(i)\n",
    "    c.execute('''INSERT INTO complaints (client_id, quantity) VALUES (?, ?)''', (client_id, complaint))\n",
    "\n",
    "conn.commit()\n",
    "conn.close()"
   ],
   "metadata": {
    "collapsed": false,
    "ExecuteTime": {
     "end_time": "2024-04-21T20:35:43.319332Z",
     "start_time": "2024-04-21T20:30:28.364830Z"
    }
   },
   "id": "bc32f2364de1a582",
   "execution_count": 179
  },
  {
   "cell_type": "code",
   "outputs": [],
   "source": [
    "mean_complaints = 3 \n",
    "std_dev_complaints = 1.2\n",
    "complaints = np.random.normal(mean_complaints, std_dev_complaints, 60000)\n",
    "\n",
    "conn = sqlite3.connect(database_name)\n",
    "c = conn.cursor()\n",
    "\n",
    "for i in complaints:\n",
    "    client = np.random.choice(clients)\n",
    "    client_id, *_ = reversed(client['name'].split())\n",
    "\n",
    "    complaint = int(i)\n",
    "    c.execute('''INSERT INTO complaints (client_id, quantity) VALUES (?, ?)''', (client_id, complaint))\n",
    "\n",
    "conn.commit()\n",
    "conn.close()"
   ],
   "metadata": {
    "collapsed": false,
    "ExecuteTime": {
     "end_time": "2024-04-21T20:41:04.090552Z",
     "start_time": "2024-04-21T20:35:43.321029Z"
    }
   },
   "id": "427ff9d23dca7a64",
   "execution_count": 180
  },
  {
   "cell_type": "code",
   "outputs": [],
   "source": [
    "mean_complaints = 3 \n",
    "std_dev_complaints = 1.2\n",
    "complaints = np.random.normal(mean_complaints, std_dev_complaints, 60000)\n",
    "\n",
    "conn = sqlite3.connect(database_name)\n",
    "c = conn.cursor()\n",
    "\n",
    "for i in complaints:\n",
    "    client = np.random.choice(clients)\n",
    "    client_id, *_ = reversed(client['name'].split())\n",
    "\n",
    "    complaint = int(i)\n",
    "    c.execute('''INSERT INTO complaints (client_id, quantity) VALUES (?, ?)''', (client_id, complaint))\n",
    "\n",
    "conn.commit()\n",
    "conn.close()"
   ],
   "metadata": {
    "collapsed": false,
    "ExecuteTime": {
     "end_time": "2024-04-21T20:45:48.648474Z",
     "start_time": "2024-04-21T20:41:04.093037Z"
    }
   },
   "id": "741f16fbeac56170",
   "execution_count": 181
  },
  {
   "cell_type": "code",
   "outputs": [],
   "source": [
    "mean_complaints = 3 \n",
    "std_dev_complaints = 1.2\n",
    "complaints = np.random.normal(mean_complaints, std_dev_complaints, 60000)\n",
    "\n",
    "conn = sqlite3.connect(database_name)\n",
    "c = conn.cursor()\n",
    "\n",
    "for i in complaints:\n",
    "    client = np.random.choice(clients)\n",
    "    client_id, *_ = reversed(client['name'].split())\n",
    "\n",
    "    complaint = int(i)\n",
    "    c.execute('''INSERT INTO complaints (client_id, quantity) VALUES (?, ?)''', (client_id, complaint))\n",
    "\n",
    "conn.commit()\n",
    "conn.close()"
   ],
   "metadata": {
    "collapsed": false,
    "ExecuteTime": {
     "end_time": "2024-04-21T20:50:13.080594Z",
     "start_time": "2024-04-21T20:45:48.650846Z"
    }
   },
   "id": "ff3ecbea2dd99da1",
   "execution_count": 182
  },
  {
   "cell_type": "code",
   "outputs": [],
   "source": [
    "mean_complaints = 3 \n",
    "std_dev_complaints = 1.2\n",
    "complaints = np.random.normal(mean_complaints, std_dev_complaints, 60000)\n",
    "\n",
    "conn = sqlite3.connect(database_name)\n",
    "c = conn.cursor()\n",
    "\n",
    "for i in complaints:\n",
    "    client = np.random.choice(clients)\n",
    "    client_id, *_ = reversed(client['name'].split())\n",
    "\n",
    "    complaint = int(i)\n",
    "    c.execute('''INSERT INTO complaints (client_id, quantity) VALUES (?, ?)''', (client_id, complaint))\n",
    "\n",
    "conn.commit()\n",
    "conn.close()"
   ],
   "metadata": {
    "collapsed": false,
    "ExecuteTime": {
     "end_time": "2024-04-21T20:54:39.694565Z",
     "start_time": "2024-04-21T20:50:13.081929Z"
    }
   },
   "id": "4871bd3221da0241",
   "execution_count": 183
  },
  {
   "cell_type": "code",
   "outputs": [],
   "source": [
    "mean_complaints = 3 \n",
    "std_dev_complaints = 1.2\n",
    "complaints = np.random.normal(mean_complaints, std_dev_complaints, 60000)\n",
    "\n",
    "conn = sqlite3.connect(database_name)\n",
    "c = conn.cursor()\n",
    "\n",
    "for i in complaints:\n",
    "    client = np.random.choice(clients)\n",
    "    client_id, *_ = reversed(client['name'].split())\n",
    "\n",
    "    complaint = int(i)\n",
    "    c.execute('''INSERT INTO complaints (client_id, quantity) VALUES (?, ?)''', (client_id, complaint))\n",
    "\n",
    "conn.commit()\n",
    "conn.close()"
   ],
   "metadata": {
    "collapsed": false,
    "ExecuteTime": {
     "end_time": "2024-04-21T20:58:59.034957Z",
     "start_time": "2024-04-21T20:54:39.697952Z"
    }
   },
   "id": "321bc2ad3b6fddc8",
   "execution_count": 184
  },
  {
   "cell_type": "code",
   "outputs": [],
   "source": [
    "mean_complaints = 3 \n",
    "std_dev_complaints = 1.2\n",
    "complaints = np.random.normal(mean_complaints, std_dev_complaints, 60000)\n",
    "\n",
    "conn = sqlite3.connect(database_name)\n",
    "c = conn.cursor()\n",
    "\n",
    "for i in complaints:\n",
    "    client = np.random.choice(clients)\n",
    "    client_id, *_ = reversed(client['name'].split())\n",
    "\n",
    "    complaint = int(i)\n",
    "    c.execute('''INSERT INTO complaints (client_id, quantity) VALUES (?, ?)''', (client_id, complaint))\n",
    "\n",
    "conn.commit()\n",
    "conn.close()"
   ],
   "metadata": {
    "collapsed": false,
    "ExecuteTime": {
     "end_time": "2024-04-21T21:03:18.849579Z",
     "start_time": "2024-04-21T20:58:59.036300Z"
    }
   },
   "id": "f3c9c883ee4545a6",
   "execution_count": 185
  },
  {
   "cell_type": "code",
   "outputs": [],
   "source": [
    "mean_complaints = 3 \n",
    "std_dev_complaints = 1.2\n",
    "complaints = np.random.normal(mean_complaints, std_dev_complaints, 60000)\n",
    "\n",
    "conn = sqlite3.connect(database_name)\n",
    "c = conn.cursor()\n",
    "\n",
    "for i in complaints:\n",
    "    client = np.random.choice(clients)\n",
    "    client_id, *_ = reversed(client['name'].split())\n",
    "\n",
    "    complaint = int(i)\n",
    "    c.execute('''INSERT INTO complaints (client_id, quantity) VALUES (?, ?)''', (client_id, complaint))\n",
    "\n",
    "conn.commit()\n",
    "conn.close()"
   ],
   "metadata": {
    "collapsed": false,
    "is_executing": true,
    "ExecuteTime": {
     "start_time": "2024-04-21T21:03:18.851017Z"
    }
   },
   "id": "48e7a8754506cdea",
   "execution_count": null
  },
  {
   "cell_type": "code",
   "outputs": [],
   "source": [
    "mean_complaints = 3 \n",
    "std_dev_complaints = 1.2\n",
    "complaints = np.random.normal(mean_complaints, std_dev_complaints, 60000)\n",
    "\n",
    "conn = sqlite3.connect(database_name)\n",
    "c = conn.cursor()\n",
    "\n",
    "for i in complaints:\n",
    "    client = np.random.choice(clients)\n",
    "    client_id, *_ = reversed(client['name'].split())\n",
    "\n",
    "    complaint = int(i)\n",
    "    c.execute('''INSERT INTO complaints (client_id, quantity) VALUES (?, ?)''', (client_id, complaint))\n",
    "\n",
    "conn.commit()\n",
    "conn.close()"
   ],
   "metadata": {
    "collapsed": false,
    "is_executing": true
   },
   "id": "e9bf1610bbdc0c8c",
   "execution_count": null
  },
  {
   "cell_type": "code",
   "outputs": [],
   "source": [
    "mean_complaints = 3 \n",
    "std_dev_complaints = 1.2\n",
    "complaints = np.random.normal(mean_complaints, std_dev_complaints, 60000)\n",
    "\n",
    "conn = sqlite3.connect(database_name)\n",
    "c = conn.cursor()\n",
    "\n",
    "for i in complaints:\n",
    "    client = np.random.choice(clients)\n",
    "    client_id, *_ = reversed(client['name'].split())\n",
    "\n",
    "    complaint = int(i)\n",
    "    c.execute('''INSERT INTO complaints (client_id, quantity) VALUES (?, ?)''', (client_id, complaint))\n",
    "\n",
    "conn.commit()\n",
    "conn.close()"
   ],
   "metadata": {
    "collapsed": false,
    "is_executing": true
   },
   "id": "22d91b85c8ffa203",
   "execution_count": null
  },
  {
   "cell_type": "code",
   "outputs": [],
   "source": [
    "mean_complaints = 3 \n",
    "std_dev_complaints = 1.2\n",
    "complaints = np.random.normal(mean_complaints, std_dev_complaints, 60000)\n",
    "\n",
    "conn = sqlite3.connect(database_name)\n",
    "c = conn.cursor()\n",
    "\n",
    "for i in complaints:\n",
    "    client = np.random.choice(clients)\n",
    "    client_id, *_ = reversed(client['name'].split())\n",
    "\n",
    "    complaint = int(i)\n",
    "    c.execute('''INSERT INTO complaints (client_id, quantity) VALUES (?, ?)''', (client_id, complaint))\n",
    "\n",
    "conn.commit()\n",
    "conn.close()"
   ],
   "metadata": {
    "collapsed": false,
    "is_executing": true
   },
   "id": "2cb70c01db5aa346",
   "execution_count": null
  },
  {
   "cell_type": "code",
   "outputs": [],
   "source": [
    "mean_complaints = 3 \n",
    "std_dev_complaints = 1.2\n",
    "complaints = np.random.normal(mean_complaints, std_dev_complaints, 60000)\n",
    "\n",
    "conn = sqlite3.connect(database_name)\n",
    "c = conn.cursor()\n",
    "\n",
    "for i in complaints:\n",
    "    client = np.random.choice(clients)\n",
    "    client_id, *_ = reversed(client['name'].split())\n",
    "\n",
    "    complaint = int(i)\n",
    "    c.execute('''INSERT INTO complaints (client_id, quantity) VALUES (?, ?)''', (client_id, complaint))\n",
    "\n",
    "conn.commit()\n",
    "conn.close()"
   ],
   "metadata": {
    "collapsed": false,
    "is_executing": true
   },
   "id": "88e63b09bf070335",
   "execution_count": null
  },
  {
   "cell_type": "code",
   "outputs": [],
   "source": [
    "mean_complaints = 3 \n",
    "std_dev_complaints = 1.2\n",
    "complaints = np.random.normal(mean_complaints, std_dev_complaints, 60000)\n",
    "\n",
    "conn = sqlite3.connect(database_name)\n",
    "c = conn.cursor()\n",
    "\n",
    "for i in complaints:\n",
    "    client = np.random.choice(clients)\n",
    "    client_id, *_ = reversed(client['name'].split())\n",
    "\n",
    "    complaint = int(i)\n",
    "    c.execute('''INSERT INTO complaints (client_id, quantity) VALUES (?, ?)''', (client_id, complaint))\n",
    "\n",
    "conn.commit()\n",
    "conn.close()"
   ],
   "metadata": {
    "collapsed": false,
    "is_executing": true
   },
   "id": "312d045150346e3a",
   "execution_count": null
  },
  {
   "cell_type": "code",
   "outputs": [],
   "source": [
    "mean_complaints = 3 \n",
    "std_dev_complaints = 1.2\n",
    "complaints = np.random.normal(mean_complaints, std_dev_complaints, 60000)\n",
    "\n",
    "conn = sqlite3.connect(database_name)\n",
    "c = conn.cursor()\n",
    "\n",
    "for i in complaints:\n",
    "    client = np.random.choice(clients)\n",
    "    client_id, *_ = reversed(client['name'].split())\n",
    "\n",
    "    complaint = int(i)\n",
    "    c.execute('''INSERT INTO complaints (client_id, quantity) VALUES (?, ?)''', (client_id, complaint))\n",
    "\n",
    "conn.commit()\n",
    "conn.close()"
   ],
   "metadata": {
    "collapsed": false,
    "is_executing": true
   },
   "id": "c6d98cf2cfa919af",
   "execution_count": null
  },
  {
   "cell_type": "code",
   "outputs": [],
   "source": [
    "mean_complaints = 3 \n",
    "std_dev_complaints = 1.2\n",
    "complaints = np.random.normal(mean_complaints, std_dev_complaints, 60000)\n",
    "\n",
    "conn = sqlite3.connect(database_name)\n",
    "c = conn.cursor()\n",
    "\n",
    "for i in complaints:\n",
    "    client = np.random.choice(clients)\n",
    "    client_id, *_ = reversed(client['name'].split())\n",
    "\n",
    "    complaint = int(i)\n",
    "    c.execute('''INSERT INTO complaints (client_id, quantity) VALUES (?, ?)''', (client_id, complaint))\n",
    "\n",
    "conn.commit()\n",
    "conn.close()"
   ],
   "metadata": {
    "collapsed": false,
    "is_executing": true
   },
   "id": "92a849b6b79d0159",
   "execution_count": null
  },
  {
   "cell_type": "code",
   "outputs": [],
   "source": [
    "mean_complaints = 3 \n",
    "std_dev_complaints = 1.2\n",
    "complaints = np.random.normal(mean_complaints, std_dev_complaints, 60000)\n",
    "\n",
    "conn = sqlite3.connect(database_name)\n",
    "c = conn.cursor()\n",
    "\n",
    "for i in complaints:\n",
    "    client = np.random.choice(clients)\n",
    "    client_id, *_ = reversed(client['name'].split())\n",
    "\n",
    "    complaint = int(i)\n",
    "    c.execute('''INSERT INTO complaints (client_id, quantity) VALUES (?, ?)''', (client_id, complaint))\n",
    "\n",
    "conn.commit()\n",
    "conn.close()"
   ],
   "metadata": {
    "collapsed": false,
    "is_executing": true
   },
   "id": "fe1fde8bb81c0acf",
   "execution_count": null
  },
  {
   "cell_type": "code",
   "outputs": [],
   "source": [
    "mean_complaints = 3 \n",
    "std_dev_complaints = 1.2\n",
    "complaints = np.random.normal(mean_complaints, std_dev_complaints, 60000)\n",
    "\n",
    "conn = sqlite3.connect(database_name)\n",
    "c = conn.cursor()\n",
    "\n",
    "for i in complaints:\n",
    "    client = np.random.choice(clients)\n",
    "    client_id, *_ = reversed(client['name'].split())\n",
    "\n",
    "    complaint = int(i)\n",
    "    c.execute('''INSERT INTO complaints (client_id, quantity) VALUES (?, ?)''', (client_id, complaint))\n",
    "\n",
    "conn.commit()\n",
    "conn.close()"
   ],
   "metadata": {
    "collapsed": false,
    "is_executing": true
   },
   "id": "5f6bf31f46eae93c",
   "execution_count": null
  },
  {
   "cell_type": "code",
   "outputs": [],
   "source": [
    "mean_complaints = 3 \n",
    "std_dev_complaints = 1.2\n",
    "complaints = np.random.normal(mean_complaints, std_dev_complaints, 60000)\n",
    "\n",
    "conn = sqlite3.connect(database_name)\n",
    "c = conn.cursor()\n",
    "\n",
    "for i in complaints:\n",
    "    client = np.random.choice(clients)\n",
    "    client_id, *_ = reversed(client['name'].split())\n",
    "\n",
    "    complaint = int(i)\n",
    "    c.execute('''INSERT INTO complaints (client_id, quantity) VALUES (?, ?)''', (client_id, complaint))\n",
    "\n",
    "conn.commit()\n",
    "conn.close()"
   ],
   "metadata": {
    "collapsed": false,
    "is_executing": true
   },
   "id": "fbd36d1cafaf5b6e",
   "execution_count": null
  },
  {
   "cell_type": "code",
   "outputs": [],
   "source": [
    "mean_complaints = 3 \n",
    "std_dev_complaints = 1.2\n",
    "complaints = np.random.normal(mean_complaints, std_dev_complaints, 60000)\n",
    "\n",
    "conn = sqlite3.connect(database_name)\n",
    "c = conn.cursor()\n",
    "\n",
    "for i in complaints:\n",
    "    client = np.random.choice(clients)\n",
    "    client_id, *_ = reversed(client['name'].split())\n",
    "\n",
    "    complaint = int(i)\n",
    "    c.execute('''INSERT INTO complaints (client_id, quantity) VALUES (?, ?)''', (client_id, complaint))\n",
    "\n",
    "conn.commit()\n",
    "conn.close()"
   ],
   "metadata": {
    "collapsed": false,
    "is_executing": true
   },
   "id": "fbe96b7ca3224ad4",
   "execution_count": null
  },
  {
   "cell_type": "code",
   "outputs": [],
   "source": [
    "mean_complaints = 3 \n",
    "std_dev_complaints = 1.2\n",
    "complaints = np.random.normal(mean_complaints, std_dev_complaints, 60000)\n",
    "\n",
    "conn = sqlite3.connect(database_name)\n",
    "c = conn.cursor()\n",
    "\n",
    "for i in complaints:\n",
    "    client = np.random.choice(clients)\n",
    "    client_id, *_ = reversed(client['name'].split())\n",
    "\n",
    "    complaint = int(i)\n",
    "    c.execute('''INSERT INTO complaints (client_id, quantity) VALUES (?, ?)''', (client_id, complaint))\n",
    "\n",
    "conn.commit()\n",
    "conn.close()"
   ],
   "metadata": {
    "collapsed": false,
    "is_executing": true
   },
   "id": "17b0106dceec3933",
   "execution_count": null
  },
  {
   "cell_type": "code",
   "outputs": [],
   "source": [
    "mean_complaints = 3 \n",
    "std_dev_complaints = 1.2\n",
    "complaints = np.random.normal(mean_complaints, std_dev_complaints, 60000)\n",
    "\n",
    "conn = sqlite3.connect(database_name)\n",
    "c = conn.cursor()\n",
    "\n",
    "for i in complaints:\n",
    "    client = np.random.choice(clients)\n",
    "    client_id, *_ = reversed(client['name'].split())\n",
    "\n",
    "    complaint = int(i)\n",
    "    c.execute('''INSERT INTO complaints (client_id, quantity) VALUES (?, ?)''', (client_id, complaint))\n",
    "\n",
    "conn.commit()\n",
    "conn.close()"
   ],
   "metadata": {
    "collapsed": false,
    "is_executing": true
   },
   "id": "aa05a9f47ab00edf",
   "execution_count": null
  },
  {
   "cell_type": "code",
   "outputs": [],
   "source": [
    "mean_complaints = 3 \n",
    "std_dev_complaints = 1.2\n",
    "complaints = np.random.normal(mean_complaints, std_dev_complaints, 60000)\n",
    "\n",
    "conn = sqlite3.connect(database_name)\n",
    "c = conn.cursor()\n",
    "\n",
    "for i in complaints:\n",
    "    client = np.random.choice(clients)\n",
    "    client_id, *_ = reversed(client['name'].split())\n",
    "\n",
    "    complaint = int(i)\n",
    "    c.execute('''INSERT INTO complaints (client_id, quantity) VALUES (?, ?)''', (client_id, complaint))\n",
    "\n",
    "conn.commit()\n",
    "conn.close()"
   ],
   "metadata": {
    "collapsed": false,
    "is_executing": true
   },
   "id": "7365a0a3f2a2ad2",
   "execution_count": null
  },
  {
   "cell_type": "code",
   "outputs": [],
   "source": [
    "mean_complaints = 3 \n",
    "std_dev_complaints = 1.2\n",
    "complaints = np.random.normal(mean_complaints, std_dev_complaints, 60000)\n",
    "\n",
    "conn = sqlite3.connect(database_name)\n",
    "c = conn.cursor()\n",
    "\n",
    "for i in complaints:\n",
    "    client = np.random.choice(clients)\n",
    "    client_id, *_ = reversed(client['name'].split())\n",
    "\n",
    "    complaint = int(i)\n",
    "    c.execute('''INSERT INTO complaints (client_id, quantity) VALUES (?, ?)''', (client_id, complaint))\n",
    "\n",
    "conn.commit()\n",
    "conn.close()"
   ],
   "metadata": {
    "collapsed": false,
    "is_executing": true
   },
   "id": "b13d33b428a84d5f",
   "execution_count": null
  },
  {
   "cell_type": "code",
   "outputs": [],
   "source": [
    "mean_complaints = 3 \n",
    "std_dev_complaints = 1.2\n",
    "complaints = np.random.normal(mean_complaints, std_dev_complaints, 60000)\n",
    "\n",
    "conn = sqlite3.connect(database_name)\n",
    "c = conn.cursor()\n",
    "\n",
    "for i in complaints:\n",
    "    client = np.random.choice(clients)\n",
    "    client_id, *_ = reversed(client['name'].split())\n",
    "\n",
    "    complaint = int(i)\n",
    "    c.execute('''INSERT INTO complaints (client_id, quantity) VALUES (?, ?)''', (client_id, complaint))\n",
    "\n",
    "conn.commit()\n",
    "conn.close()"
   ],
   "metadata": {
    "collapsed": false,
    "is_executing": true
   },
   "id": "55b580ded9036dfd",
   "execution_count": null
  },
  {
   "cell_type": "code",
   "outputs": [],
   "source": [
    "mean_complaints = 3 \n",
    "std_dev_complaints = 1.2\n",
    "complaints = np.random.normal(mean_complaints, std_dev_complaints, 60000)\n",
    "\n",
    "conn = sqlite3.connect(database_name)\n",
    "c = conn.cursor()\n",
    "\n",
    "for i in complaints:\n",
    "    client = np.random.choice(clients)\n",
    "    client_id, *_ = reversed(client['name'].split())\n",
    "\n",
    "    complaint = int(i)\n",
    "    c.execute('''INSERT INTO complaints (client_id, quantity) VALUES (?, ?)''', (client_id, complaint))\n",
    "\n",
    "conn.commit()\n",
    "conn.close()"
   ],
   "metadata": {
    "collapsed": false,
    "is_executing": true
   },
   "id": "b969dad9874cd3ea",
   "execution_count": null
  },
  {
   "cell_type": "code",
   "outputs": [],
   "source": [
    "mean_complaints = 3 \n",
    "std_dev_complaints = 1.2\n",
    "complaints = np.random.normal(mean_complaints, std_dev_complaints, 60000)\n",
    "\n",
    "conn = sqlite3.connect(database_name)\n",
    "c = conn.cursor()\n",
    "\n",
    "for i in complaints:\n",
    "    client = np.random.choice(clients)\n",
    "    client_id, *_ = reversed(client['name'].split())\n",
    "\n",
    "    complaint = int(i)\n",
    "    c.execute('''INSERT INTO complaints (client_id, quantity) VALUES (?, ?)''', (client_id, complaint))\n",
    "\n",
    "conn.commit()\n",
    "conn.close()"
   ],
   "metadata": {
    "collapsed": false,
    "is_executing": true
   },
   "id": "6bf4a928c0d5e95",
   "execution_count": null
  },
  {
   "cell_type": "code",
   "outputs": [],
   "source": [
    "mean_complaints = 3 \n",
    "std_dev_complaints = 1.2\n",
    "complaints = np.random.normal(mean_complaints, std_dev_complaints, 60000)\n",
    "\n",
    "conn = sqlite3.connect(database_name)\n",
    "c = conn.cursor()\n",
    "\n",
    "for i in complaints:\n",
    "    client = np.random.choice(clients)\n",
    "    client_id, *_ = reversed(client['name'].split())\n",
    "\n",
    "    complaint = int(i)\n",
    "    c.execute('''INSERT INTO complaints (client_id, quantity) VALUES (?, ?)''', (client_id, complaint))\n",
    "\n",
    "conn.commit()\n",
    "conn.close()"
   ],
   "metadata": {
    "collapsed": false,
    "is_executing": true
   },
   "id": "aab9ad4fb3f33a6c",
   "execution_count": null
  },
  {
   "cell_type": "code",
   "outputs": [],
   "source": [
    "mean_complaints = 3 \n",
    "std_dev_complaints = 1.2\n",
    "complaints = np.random.normal(mean_complaints, std_dev_complaints, 60000)\n",
    "\n",
    "conn = sqlite3.connect(database_name)\n",
    "c = conn.cursor()\n",
    "\n",
    "for i in complaints:\n",
    "    client = np.random.choice(clients)\n",
    "    client_id, *_ = reversed(client['name'].split())\n",
    "\n",
    "    complaint = int(i)\n",
    "    c.execute('''INSERT INTO complaints (client_id, quantity) VALUES (?, ?)''', (client_id, complaint))\n",
    "\n",
    "conn.commit()\n",
    "conn.close()"
   ],
   "metadata": {
    "collapsed": false,
    "is_executing": true
   },
   "id": "46dfa4531cc4b32e",
   "execution_count": null
  },
  {
   "cell_type": "code",
   "outputs": [],
   "source": [
    "mean_complaints = 3 \n",
    "std_dev_complaints = 1.2\n",
    "complaints = np.random.normal(mean_complaints, std_dev_complaints, 60000)\n",
    "\n",
    "conn = sqlite3.connect(database_name)\n",
    "c = conn.cursor()\n",
    "\n",
    "for i in complaints:\n",
    "    client = np.random.choice(clients)\n",
    "    client_id, *_ = reversed(client['name'].split())\n",
    "\n",
    "    complaint = int(i)\n",
    "    c.execute('''INSERT INTO complaints (client_id, quantity) VALUES (?, ?)''', (client_id, complaint))\n",
    "\n",
    "conn.commit()\n",
    "conn.close()"
   ],
   "metadata": {
    "collapsed": false,
    "is_executing": true
   },
   "id": "9fec665bbed0e499",
   "execution_count": null
  },
  {
   "cell_type": "code",
   "outputs": [],
   "source": [
    "mean_complaints = 3 \n",
    "std_dev_complaints = 1.2\n",
    "complaints = np.random.normal(mean_complaints, std_dev_complaints, 60000)\n",
    "\n",
    "conn = sqlite3.connect(database_name)\n",
    "c = conn.cursor()\n",
    "\n",
    "for i in complaints:\n",
    "    client = np.random.choice(clients)\n",
    "    client_id, *_ = reversed(client['name'].split())\n",
    "\n",
    "    complaint = int(i)\n",
    "    c.execute('''INSERT INTO complaints (client_id, quantity) VALUES (?, ?)''', (client_id, complaint))\n",
    "\n",
    "conn.commit()\n",
    "conn.close()"
   ],
   "metadata": {
    "collapsed": false,
    "is_executing": true
   },
   "id": "ea110fef1f76600c",
   "execution_count": null
  },
  {
   "cell_type": "code",
   "outputs": [],
   "source": [
    "mean_complaints = 3 \n",
    "std_dev_complaints = 1.2\n",
    "complaints = np.random.normal(mean_complaints, std_dev_complaints, 60000)\n",
    "\n",
    "conn = sqlite3.connect(database_name)\n",
    "c = conn.cursor()\n",
    "\n",
    "for i in complaints:\n",
    "    client = np.random.choice(clients)\n",
    "    client_id, *_ = reversed(client['name'].split())\n",
    "\n",
    "    complaint = int(i)\n",
    "    c.execute('''INSERT INTO complaints (client_id, quantity) VALUES (?, ?)''', (client_id, complaint))\n",
    "\n",
    "conn.commit()\n",
    "conn.close()"
   ],
   "metadata": {
    "collapsed": false,
    "is_executing": true
   },
   "id": "c759bb1bb6e8734d",
   "execution_count": null
  },
  {
   "cell_type": "code",
   "outputs": [],
   "source": [
    "mean_complaints = 3 \n",
    "std_dev_complaints = 1.2\n",
    "complaints = np.random.normal(mean_complaints, std_dev_complaints, 60000)\n",
    "\n",
    "conn = sqlite3.connect(database_name)\n",
    "c = conn.cursor()\n",
    "\n",
    "for i in complaints:\n",
    "    client = np.random.choice(clients)\n",
    "    client_id, *_ = reversed(client['name'].split())\n",
    "\n",
    "    complaint = int(i)\n",
    "    c.execute('''INSERT INTO complaints (client_id, quantity) VALUES (?, ?)''', (client_id, complaint))\n",
    "\n",
    "conn.commit()\n",
    "conn.close()"
   ],
   "metadata": {
    "collapsed": false,
    "is_executing": true
   },
   "id": "c3380af071c99158",
   "execution_count": null
  },
  {
   "cell_type": "code",
   "outputs": [],
   "source": [
    "mean_complaints = 3 \n",
    "std_dev_complaints = 1.2\n",
    "complaints = np.random.normal(mean_complaints, std_dev_complaints, 60000)\n",
    "\n",
    "conn = sqlite3.connect(database_name)\n",
    "c = conn.cursor()\n",
    "\n",
    "for i in complaints:\n",
    "    client = np.random.choice(clients)\n",
    "    client_id, *_ = reversed(client['name'].split())\n",
    "\n",
    "    complaint = int(i)\n",
    "    c.execute('''INSERT INTO complaints (client_id, quantity) VALUES (?, ?)''', (client_id, complaint))\n",
    "\n",
    "conn.commit()\n",
    "conn.close()"
   ],
   "metadata": {
    "collapsed": false,
    "is_executing": true
   },
   "id": "5920f7617fa8b639",
   "execution_count": null
  },
  {
   "cell_type": "code",
   "outputs": [],
   "source": [
    "mean_complaints = 3 \n",
    "std_dev_complaints = 1.2\n",
    "complaints = np.random.normal(mean_complaints, std_dev_complaints, 60000)\n",
    "\n",
    "conn = sqlite3.connect(database_name)\n",
    "c = conn.cursor()\n",
    "\n",
    "for i in complaints:\n",
    "    client = np.random.choice(clients)\n",
    "    client_id, *_ = reversed(client['name'].split())\n",
    "\n",
    "    complaint = int(i)\n",
    "    c.execute('''INSERT INTO complaints (client_id, quantity) VALUES (?, ?)''', (client_id, complaint))\n",
    "\n",
    "conn.commit()\n",
    "conn.close()"
   ],
   "metadata": {
    "collapsed": false,
    "is_executing": true
   },
   "id": "c73279d2abedfdc6",
   "execution_count": null
  },
  {
   "cell_type": "code",
   "outputs": [],
   "source": [
    "mean_complaints = 3 \n",
    "std_dev_complaints = 1.2\n",
    "complaints = np.random.normal(mean_complaints, std_dev_complaints, 60000)\n",
    "\n",
    "conn = sqlite3.connect(database_name)\n",
    "c = conn.cursor()\n",
    "\n",
    "for i in complaints:\n",
    "    client = np.random.choice(clients)\n",
    "    client_id, *_ = reversed(client['name'].split())\n",
    "\n",
    "    complaint = int(i)\n",
    "    c.execute('''INSERT INTO complaints (client_id, quantity) VALUES (?, ?)''', (client_id, complaint))\n",
    "\n",
    "conn.commit()\n",
    "conn.close()"
   ],
   "metadata": {
    "collapsed": false,
    "is_executing": true
   },
   "id": "655cca785a539993",
   "execution_count": null
  },
  {
   "cell_type": "code",
   "outputs": [],
   "source": [
    "mean_complaints = 3 \n",
    "std_dev_complaints = 1.2\n",
    "complaints = np.random.normal(mean_complaints, std_dev_complaints, 60000)\n",
    "\n",
    "conn = sqlite3.connect(database_name)\n",
    "c = conn.cursor()\n",
    "\n",
    "for i in complaints:\n",
    "    client = np.random.choice(clients)\n",
    "    client_id, *_ = reversed(client['name'].split())\n",
    "\n",
    "    complaint = int(i)\n",
    "    c.execute('''INSERT INTO complaints (client_id, quantity) VALUES (?, ?)''', (client_id, complaint))\n",
    "\n",
    "conn.commit()\n",
    "conn.close()"
   ],
   "metadata": {
    "collapsed": false,
    "is_executing": true
   },
   "id": "f61f7698ef4be398",
   "execution_count": null
  },
  {
   "cell_type": "code",
   "outputs": [],
   "source": [
    "mean_complaints = 3 \n",
    "std_dev_complaints = 1.2\n",
    "complaints = np.random.normal(mean_complaints, std_dev_complaints, 60000)\n",
    "\n",
    "conn = sqlite3.connect(database_name)\n",
    "c = conn.cursor()\n",
    "\n",
    "for i in complaints:\n",
    "    client = np.random.choice(clients)\n",
    "    client_id, *_ = reversed(client['name'].split())\n",
    "\n",
    "    complaint = int(i)\n",
    "    c.execute('''INSERT INTO complaints (client_id, quantity) VALUES (?, ?)''', (client_id, complaint))\n",
    "\n",
    "conn.commit()\n",
    "conn.close()"
   ],
   "metadata": {
    "collapsed": false,
    "is_executing": true
   },
   "id": "a12a3563f04f330c",
   "execution_count": null
  },
  {
   "cell_type": "code",
   "outputs": [],
   "source": [
    "mean_complaints = 3 \n",
    "std_dev_complaints = 1.2\n",
    "complaints = np.random.normal(mean_complaints, std_dev_complaints, 60000)\n",
    "\n",
    "conn = sqlite3.connect(database_name)\n",
    "c = conn.cursor()\n",
    "\n",
    "for i in complaints:\n",
    "    client = np.random.choice(clients)\n",
    "    client_id, *_ = reversed(client['name'].split())\n",
    "\n",
    "    complaint = int(i)\n",
    "    c.execute('''INSERT INTO complaints (client_id, quantity) VALUES (?, ?)''', (client_id, complaint))\n",
    "\n",
    "conn.commit()\n",
    "conn.close()"
   ],
   "metadata": {
    "collapsed": false,
    "is_executing": true
   },
   "id": "ddd7e1434936ce27",
   "execution_count": null
  },
  {
   "cell_type": "code",
   "outputs": [],
   "source": [
    "mean_complaints = 3 \n",
    "std_dev_complaints = 1.2\n",
    "complaints = np.random.normal(mean_complaints, std_dev_complaints, 60000)\n",
    "\n",
    "conn = sqlite3.connect(database_name)\n",
    "c = conn.cursor()\n",
    "\n",
    "for i in complaints:\n",
    "    client = np.random.choice(clients)\n",
    "    client_id, *_ = reversed(client['name'].split())\n",
    "\n",
    "    complaint = int(i)\n",
    "    c.execute('''INSERT INTO complaints (client_id, quantity) VALUES (?, ?)''', (client_id, complaint))\n",
    "\n",
    "conn.commit()\n",
    "conn.close()"
   ],
   "metadata": {
    "collapsed": false,
    "is_executing": true
   },
   "id": "d1ccd985b8d6475e",
   "execution_count": null
  },
  {
   "cell_type": "code",
   "outputs": [],
   "source": [
    "mean_complaints = 3 \n",
    "std_dev_complaints = 1.2\n",
    "complaints = np.random.normal(mean_complaints, std_dev_complaints, 60000)\n",
    "\n",
    "conn = sqlite3.connect(database_name)\n",
    "c = conn.cursor()\n",
    "\n",
    "for i in complaints:\n",
    "    client = np.random.choice(clients)\n",
    "    client_id, *_ = reversed(client['name'].split())\n",
    "\n",
    "    complaint = int(i)\n",
    "    c.execute('''INSERT INTO complaints (client_id, quantity) VALUES (?, ?)''', (client_id, complaint))\n",
    "\n",
    "conn.commit()\n",
    "conn.close()"
   ],
   "metadata": {
    "collapsed": false,
    "is_executing": true
   },
   "id": "5786c0478a088254",
   "execution_count": null
  },
  {
   "cell_type": "code",
   "outputs": [],
   "source": [
    "mean_complaints = 3 \n",
    "std_dev_complaints = 1.2\n",
    "complaints = np.random.normal(mean_complaints, std_dev_complaints, 60000)\n",
    "\n",
    "conn = sqlite3.connect(database_name)\n",
    "c = conn.cursor()\n",
    "\n",
    "for i in complaints:\n",
    "    client = np.random.choice(clients)\n",
    "    client_id, *_ = reversed(client['name'].split())\n",
    "\n",
    "    complaint = int(i)\n",
    "    c.execute('''INSERT INTO complaints (client_id, quantity) VALUES (?, ?)''', (client_id, complaint))\n",
    "\n",
    "conn.commit()\n",
    "conn.close()"
   ],
   "metadata": {
    "collapsed": false,
    "is_executing": true
   },
   "id": "421707a3504c6b0e",
   "execution_count": null
  },
  {
   "cell_type": "code",
   "outputs": [],
   "source": [
    "mean_complaints = 3 \n",
    "std_dev_complaints = 1.2\n",
    "complaints = np.random.normal(mean_complaints, std_dev_complaints, 60000)\n",
    "\n",
    "conn = sqlite3.connect(database_name)\n",
    "c = conn.cursor()\n",
    "\n",
    "for i in complaints:\n",
    "    client = np.random.choice(clients)\n",
    "    client_id, *_ = reversed(client['name'].split())\n",
    "\n",
    "    complaint = int(i)\n",
    "    c.execute('''INSERT INTO complaints (client_id, quantity) VALUES (?, ?)''', (client_id, complaint))\n",
    "\n",
    "conn.commit()\n",
    "conn.close()"
   ],
   "metadata": {
    "collapsed": false,
    "is_executing": true
   },
   "id": "c61fef798cc44b92",
   "execution_count": null
  },
  {
   "cell_type": "code",
   "outputs": [],
   "source": [
    "mean_complaints = 3 \n",
    "std_dev_complaints = 1.2\n",
    "complaints = np.random.normal(mean_complaints, std_dev_complaints, 60000)\n",
    "\n",
    "conn = sqlite3.connect(database_name)\n",
    "c = conn.cursor()\n",
    "\n",
    "for i in complaints:\n",
    "    client = np.random.choice(clients)\n",
    "    client_id, *_ = reversed(client['name'].split())\n",
    "\n",
    "    complaint = int(i)\n",
    "    c.execute('''INSERT INTO complaints (client_id, quantity) VALUES (?, ?)''', (client_id, complaint))\n",
    "\n",
    "conn.commit()\n",
    "conn.close()"
   ],
   "metadata": {
    "collapsed": false,
    "is_executing": true
   },
   "id": "911c6392c1b6bafc",
   "execution_count": null
  },
  {
   "cell_type": "code",
   "outputs": [],
   "source": [
    "mean_complaints = 3 \n",
    "std_dev_complaints = 1.2\n",
    "complaints = np.random.normal(mean_complaints, std_dev_complaints, 60000)\n",
    "\n",
    "conn = sqlite3.connect(database_name)\n",
    "c = conn.cursor()\n",
    "\n",
    "for i in complaints:\n",
    "    client = np.random.choice(clients)\n",
    "    client_id, *_ = reversed(client['name'].split())\n",
    "\n",
    "    complaint = int(i)\n",
    "    c.execute('''INSERT INTO complaints (client_id, quantity) VALUES (?, ?)''', (client_id, complaint))\n",
    "\n",
    "conn.commit()\n",
    "conn.close()"
   ],
   "metadata": {
    "collapsed": false,
    "is_executing": true
   },
   "id": "208973dbb88a57b5",
   "execution_count": null
  },
  {
   "cell_type": "code",
   "outputs": [],
   "source": [
    "mean_complaints = 3 \n",
    "std_dev_complaints = 1.2\n",
    "complaints = np.random.normal(mean_complaints, std_dev_complaints, 60000)\n",
    "\n",
    "conn = sqlite3.connect(database_name)\n",
    "c = conn.cursor()\n",
    "\n",
    "for i in complaints:\n",
    "    client = np.random.choice(clients)\n",
    "    client_id, *_ = reversed(client['name'].split())\n",
    "\n",
    "    complaint = int(i)\n",
    "    c.execute('''INSERT INTO complaints (client_id, quantity) VALUES (?, ?)''', (client_id, complaint))\n",
    "\n",
    "conn.commit()\n",
    "conn.close()"
   ],
   "metadata": {
    "collapsed": false,
    "is_executing": true
   },
   "id": "34f90381e9eac54f",
   "execution_count": null
  },
  {
   "cell_type": "code",
   "outputs": [],
   "source": [
    "mean_complaints = 3 \n",
    "std_dev_complaints = 1.2\n",
    "complaints = np.random.normal(mean_complaints, std_dev_complaints, 60000)\n",
    "\n",
    "conn = sqlite3.connect(database_name)\n",
    "c = conn.cursor()\n",
    "\n",
    "for i in complaints:\n",
    "    client = np.random.choice(clients)\n",
    "    client_id, *_ = reversed(client['name'].split())\n",
    "\n",
    "    complaint = int(i)\n",
    "    c.execute('''INSERT INTO complaints (client_id, quantity) VALUES (?, ?)''', (client_id, complaint))\n",
    "\n",
    "conn.commit()\n",
    "conn.close()"
   ],
   "metadata": {
    "collapsed": false,
    "is_executing": true
   },
   "id": "2238ce5625ce4272",
   "execution_count": null
  },
  {
   "cell_type": "code",
   "outputs": [],
   "source": [
    "mean_complaints = 3 \n",
    "std_dev_complaints = 1.2\n",
    "complaints = np.random.normal(mean_complaints, std_dev_complaints, 60000)\n",
    "\n",
    "conn = sqlite3.connect(database_name)\n",
    "c = conn.cursor()\n",
    "\n",
    "for i in complaints:\n",
    "    client = np.random.choice(clients)\n",
    "    client_id, *_ = reversed(client['name'].split())\n",
    "\n",
    "    complaint = int(i)\n",
    "    c.execute('''INSERT INTO complaints (client_id, quantity) VALUES (?, ?)''', (client_id, complaint))\n",
    "\n",
    "conn.commit()\n",
    "conn.close()"
   ],
   "metadata": {
    "collapsed": false,
    "is_executing": true
   },
   "id": "a76ddc094fe1fbc5",
   "execution_count": null
  },
  {
   "cell_type": "code",
   "outputs": [],
   "source": [
    "mean_complaints = 3 \n",
    "std_dev_complaints = 1.2\n",
    "complaints = np.random.normal(mean_complaints, std_dev_complaints, 60000)\n",
    "\n",
    "conn = sqlite3.connect(database_name)\n",
    "c = conn.cursor()\n",
    "\n",
    "for i in complaints:\n",
    "    client = np.random.choice(clients)\n",
    "    client_id, *_ = reversed(client['name'].split())\n",
    "\n",
    "    complaint = int(i)\n",
    "    c.execute('''INSERT INTO complaints (client_id, quantity) VALUES (?, ?)''', (client_id, complaint))\n",
    "\n",
    "conn.commit()\n",
    "conn.close()"
   ],
   "metadata": {
    "collapsed": false,
    "is_executing": true
   },
   "id": "46e6a3b89bc66ef0",
   "execution_count": null
  },
  {
   "cell_type": "code",
   "outputs": [],
   "source": [
    "mean_complaints = 3 \n",
    "std_dev_complaints = 1.2\n",
    "complaints = np.random.normal(mean_complaints, std_dev_complaints, 60000)\n",
    "\n",
    "conn = sqlite3.connect(database_name)\n",
    "c = conn.cursor()\n",
    "\n",
    "for i in complaints:\n",
    "    client = np.random.choice(clients)\n",
    "    client_id, *_ = reversed(client['name'].split())\n",
    "\n",
    "    complaint = int(i)\n",
    "    c.execute('''INSERT INTO complaints (client_id, quantity) VALUES (?, ?)''', (client_id, complaint))\n",
    "\n",
    "conn.commit()\n",
    "conn.close()"
   ],
   "metadata": {
    "collapsed": false,
    "is_executing": true
   },
   "id": "552b549fe2e0f9c3",
   "execution_count": null
  },
  {
   "cell_type": "code",
   "outputs": [],
   "source": [
    "mean_complaints = 3 \n",
    "std_dev_complaints = 1.2\n",
    "complaints = np.random.normal(mean_complaints, std_dev_complaints, 60000)\n",
    "\n",
    "conn = sqlite3.connect(database_name)\n",
    "c = conn.cursor()\n",
    "\n",
    "for i in complaints:\n",
    "    client = np.random.choice(clients)\n",
    "    client_id, *_ = reversed(client['name'].split())\n",
    "\n",
    "    complaint = int(i)\n",
    "    c.execute('''INSERT INTO complaints (client_id, quantity) VALUES (?, ?)''', (client_id, complaint))\n",
    "\n",
    "conn.commit()\n",
    "conn.close()"
   ],
   "metadata": {
    "collapsed": false,
    "is_executing": true
   },
   "id": "865c145b83dfa589",
   "execution_count": null
  },
  {
   "cell_type": "code",
   "outputs": [],
   "source": [
    "mean_complaints = 3 \n",
    "std_dev_complaints = 1.2\n",
    "complaints = np.random.normal(mean_complaints, std_dev_complaints, 60000)\n",
    "\n",
    "conn = sqlite3.connect(database_name)\n",
    "c = conn.cursor()\n",
    "\n",
    "for i in complaints:\n",
    "    client = np.random.choice(clients)\n",
    "    client_id, *_ = reversed(client['name'].split())\n",
    "\n",
    "    complaint = int(i)\n",
    "    c.execute('''INSERT INTO complaints (client_id, quantity) VALUES (?, ?)''', (client_id, complaint))\n",
    "\n",
    "conn.commit()\n",
    "conn.close()"
   ],
   "metadata": {
    "collapsed": false,
    "is_executing": true
   },
   "id": "ae555fa47a3f25b1",
   "execution_count": null
  },
  {
   "cell_type": "code",
   "outputs": [],
   "source": [
    "mean_complaints = 3 \n",
    "std_dev_complaints = 1.2\n",
    "complaints = np.random.normal(mean_complaints, std_dev_complaints, 60000)\n",
    "\n",
    "conn = sqlite3.connect(database_name)\n",
    "c = conn.cursor()\n",
    "\n",
    "for i in complaints:\n",
    "    client = np.random.choice(clients)\n",
    "    client_id, *_ = reversed(client['name'].split())\n",
    "\n",
    "    complaint = int(i)\n",
    "    c.execute('''INSERT INTO complaints (client_id, quantity) VALUES (?, ?)''', (client_id, complaint))\n",
    "\n",
    "conn.commit()\n",
    "conn.close()"
   ],
   "metadata": {
    "collapsed": false,
    "is_executing": true
   },
   "id": "9acadd415a1fde8e",
   "execution_count": null
  },
  {
   "cell_type": "code",
   "outputs": [],
   "source": [
    "mean_complaints = 3 \n",
    "std_dev_complaints = 1.2\n",
    "complaints = np.random.normal(mean_complaints, std_dev_complaints, 60000)\n",
    "\n",
    "conn = sqlite3.connect(database_name)\n",
    "c = conn.cursor()\n",
    "\n",
    "for i in complaints:\n",
    "    client = np.random.choice(clients)\n",
    "    client_id, *_ = reversed(client['name'].split())\n",
    "\n",
    "    complaint = int(i)\n",
    "    c.execute('''INSERT INTO complaints (client_id, quantity) VALUES (?, ?)''', (client_id, complaint))\n",
    "\n",
    "conn.commit()\n",
    "conn.close()"
   ],
   "metadata": {
    "collapsed": false,
    "is_executing": true
   },
   "id": "991749b2924d159d",
   "execution_count": null
  },
  {
   "cell_type": "code",
   "outputs": [],
   "source": [
    "mean_complaints = 3 \n",
    "std_dev_complaints = 1.2\n",
    "complaints = np.random.normal(mean_complaints, std_dev_complaints, 60000)\n",
    "\n",
    "conn = sqlite3.connect(database_name)\n",
    "c = conn.cursor()\n",
    "\n",
    "for i in complaints:\n",
    "    client = np.random.choice(clients)\n",
    "    client_id, *_ = reversed(client['name'].split())\n",
    "\n",
    "    complaint = int(i)\n",
    "    c.execute('''INSERT INTO complaints (client_id, quantity) VALUES (?, ?)''', (client_id, complaint))\n",
    "\n",
    "conn.commit()\n",
    "conn.close()"
   ],
   "metadata": {
    "collapsed": false,
    "is_executing": true
   },
   "id": "e5cf6f9fa6a37181",
   "execution_count": null
  },
  {
   "cell_type": "code",
   "outputs": [],
   "source": [
    "mean_complaints = 3 \n",
    "std_dev_complaints = 1.2\n",
    "complaints = np.random.normal(mean_complaints, std_dev_complaints, 60000)\n",
    "\n",
    "conn = sqlite3.connect(database_name)\n",
    "c = conn.cursor()\n",
    "\n",
    "for i in complaints:\n",
    "    client = np.random.choice(clients)\n",
    "    client_id, *_ = reversed(client['name'].split())\n",
    "\n",
    "    complaint = int(i)\n",
    "    c.execute('''INSERT INTO complaints (client_id, quantity) VALUES (?, ?)''', (client_id, complaint))\n",
    "\n",
    "conn.commit()\n",
    "conn.close()"
   ],
   "metadata": {
    "collapsed": false,
    "is_executing": true
   },
   "id": "9de39d875b67afbe",
   "execution_count": null
  },
  {
   "cell_type": "code",
   "outputs": [],
   "source": [
    "mean_complaints = 3 \n",
    "std_dev_complaints = 1.2\n",
    "complaints = np.random.normal(mean_complaints, std_dev_complaints, 60000)\n",
    "\n",
    "conn = sqlite3.connect(database_name)\n",
    "c = conn.cursor()\n",
    "\n",
    "for i in complaints:\n",
    "    client = np.random.choice(clients)\n",
    "    client_id, *_ = reversed(client['name'].split())\n",
    "\n",
    "    complaint = int(i)\n",
    "    c.execute('''INSERT INTO complaints (client_id, quantity) VALUES (?, ?)''', (client_id, complaint))\n",
    "\n",
    "conn.commit()\n",
    "conn.close()"
   ],
   "metadata": {
    "collapsed": false,
    "is_executing": true
   },
   "id": "6935d175e8eca63",
   "execution_count": null
  },
  {
   "cell_type": "code",
   "outputs": [],
   "source": [
    "mean_complaints = 3 \n",
    "std_dev_complaints = 1.2\n",
    "complaints = np.random.normal(mean_complaints, std_dev_complaints, 60000)\n",
    "\n",
    "conn = sqlite3.connect(database_name)\n",
    "c = conn.cursor()\n",
    "\n",
    "for i in complaints:\n",
    "    client = np.random.choice(clients)\n",
    "    client_id, *_ = reversed(client['name'].split())\n",
    "\n",
    "    complaint = int(i)\n",
    "    c.execute('''INSERT INTO complaints (client_id, quantity) VALUES (?, ?)''', (client_id, complaint))\n",
    "\n",
    "conn.commit()\n",
    "conn.close()"
   ],
   "metadata": {
    "collapsed": false,
    "is_executing": true
   },
   "id": "353b9adf56fd32bc",
   "execution_count": null
  },
  {
   "cell_type": "code",
   "outputs": [],
   "source": [
    "mean_complaints = 3 \n",
    "std_dev_complaints = 1.2\n",
    "complaints = np.random.normal(mean_complaints, std_dev_complaints, 60000)\n",
    "\n",
    "conn = sqlite3.connect(database_name)\n",
    "c = conn.cursor()\n",
    "\n",
    "for i in complaints:\n",
    "    client = np.random.choice(clients)\n",
    "    client_id, *_ = reversed(client['name'].split())\n",
    "\n",
    "    complaint = int(i)\n",
    "    c.execute('''INSERT INTO complaints (client_id, quantity) VALUES (?, ?)''', (client_id, complaint))\n",
    "\n",
    "conn.commit()\n",
    "conn.close()"
   ],
   "metadata": {
    "collapsed": false,
    "is_executing": true
   },
   "id": "1e03a029b6a9ab54",
   "execution_count": null
  },
  {
   "cell_type": "code",
   "outputs": [],
   "source": [
    "mean_complaints = 3 \n",
    "std_dev_complaints = 1.2\n",
    "complaints = np.random.normal(mean_complaints, std_dev_complaints, 60000)\n",
    "\n",
    "conn = sqlite3.connect(database_name)\n",
    "c = conn.cursor()\n",
    "\n",
    "for i in complaints:\n",
    "    client = np.random.choice(clients)\n",
    "    client_id, *_ = reversed(client['name'].split())\n",
    "\n",
    "    complaint = int(i)\n",
    "    c.execute('''INSERT INTO complaints (client_id, quantity) VALUES (?, ?)''', (client_id, complaint))\n",
    "\n",
    "conn.commit()\n",
    "conn.close()"
   ],
   "metadata": {
    "collapsed": false,
    "is_executing": true
   },
   "id": "4daf12a34f39c0f8",
   "execution_count": null
  },
  {
   "cell_type": "code",
   "outputs": [],
   "source": [
    "mean_complaints = 3 \n",
    "std_dev_complaints = 1.2\n",
    "complaints = np.random.normal(mean_complaints, std_dev_complaints, 60000)\n",
    "\n",
    "conn = sqlite3.connect(database_name)\n",
    "c = conn.cursor()\n",
    "\n",
    "for i in complaints:\n",
    "    client = np.random.choice(clients)\n",
    "    client_id, *_ = reversed(client['name'].split())\n",
    "\n",
    "    complaint = int(i)\n",
    "    c.execute('''INSERT INTO complaints (client_id, quantity) VALUES (?, ?)''', (client_id, complaint))\n",
    "\n",
    "conn.commit()\n",
    "conn.close()"
   ],
   "metadata": {
    "collapsed": false,
    "is_executing": true
   },
   "id": "4bc431d59071a8b6",
   "execution_count": null
  },
  {
   "cell_type": "code",
   "outputs": [],
   "source": [
    "mean_complaints = 3 \n",
    "std_dev_complaints = 1.2\n",
    "complaints = np.random.normal(mean_complaints, std_dev_complaints, 60000)\n",
    "\n",
    "conn = sqlite3.connect(database_name)\n",
    "c = conn.cursor()\n",
    "\n",
    "for i in complaints:\n",
    "    client = np.random.choice(clients)\n",
    "    client_id, *_ = reversed(client['name'].split())\n",
    "\n",
    "    complaint = int(i)\n",
    "    c.execute('''INSERT INTO complaints (client_id, quantity) VALUES (?, ?)''', (client_id, complaint))\n",
    "\n",
    "conn.commit()\n",
    "conn.close()"
   ],
   "metadata": {
    "collapsed": false,
    "is_executing": true
   },
   "id": "7733c93330f3cea0",
   "execution_count": null
  },
  {
   "cell_type": "code",
   "outputs": [],
   "source": [
    "mean_complaints = 3 \n",
    "std_dev_complaints = 1.2\n",
    "complaints = np.random.normal(mean_complaints, std_dev_complaints, 60000)\n",
    "\n",
    "conn = sqlite3.connect(database_name)\n",
    "c = conn.cursor()\n",
    "\n",
    "for i in complaints:\n",
    "    client = np.random.choice(clients)\n",
    "    client_id, *_ = reversed(client['name'].split())\n",
    "\n",
    "    complaint = int(i)\n",
    "    c.execute('''INSERT INTO complaints (client_id, quantity) VALUES (?, ?)''', (client_id, complaint))\n",
    "\n",
    "conn.commit()\n",
    "conn.close()"
   ],
   "metadata": {
    "collapsed": false,
    "is_executing": true
   },
   "id": "71580c7052f50a26",
   "execution_count": null
  },
  {
   "cell_type": "code",
   "outputs": [],
   "source": [
    "mean_complaints = 3 \n",
    "std_dev_complaints = 1.2\n",
    "complaints = np.random.normal(mean_complaints, std_dev_complaints, 60000)\n",
    "\n",
    "conn = sqlite3.connect(database_name)\n",
    "c = conn.cursor()\n",
    "\n",
    "for i in complaints:\n",
    "    client = np.random.choice(clients)\n",
    "    client_id, *_ = reversed(client['name'].split())\n",
    "\n",
    "    complaint = int(i)\n",
    "    c.execute('''INSERT INTO complaints (client_id, quantity) VALUES (?, ?)''', (client_id, complaint))\n",
    "\n",
    "conn.commit()\n",
    "conn.close()"
   ],
   "metadata": {
    "collapsed": false,
    "is_executing": true
   },
   "id": "aea4d275633bde35",
   "execution_count": null
  },
  {
   "cell_type": "code",
   "outputs": [],
   "source": [
    "mean_complaints = 3 \n",
    "std_dev_complaints = 1.2\n",
    "complaints = np.random.normal(mean_complaints, std_dev_complaints, 60000)\n",
    "\n",
    "conn = sqlite3.connect(database_name)\n",
    "c = conn.cursor()\n",
    "\n",
    "for i in complaints:\n",
    "    client = np.random.choice(clients)\n",
    "    client_id, *_ = reversed(client['name'].split())\n",
    "\n",
    "    complaint = int(i)\n",
    "    c.execute('''INSERT INTO complaints (client_id, quantity) VALUES (?, ?)''', (client_id, complaint))\n",
    "\n",
    "conn.commit()\n",
    "conn.close()"
   ],
   "metadata": {
    "collapsed": false,
    "is_executing": true
   },
   "id": "2a5baf7dfb736ac3",
   "execution_count": null
  },
  {
   "cell_type": "code",
   "outputs": [],
   "source": [
    "mean_complaints = 3 \n",
    "std_dev_complaints = 1.2\n",
    "complaints = np.random.normal(mean_complaints, std_dev_complaints, 60000)\n",
    "\n",
    "conn = sqlite3.connect(database_name)\n",
    "c = conn.cursor()\n",
    "\n",
    "for i in complaints:\n",
    "    client = np.random.choice(clients)\n",
    "    client_id, *_ = reversed(client['name'].split())\n",
    "\n",
    "    complaint = int(i)\n",
    "    c.execute('''INSERT INTO complaints (client_id, quantity) VALUES (?, ?)''', (client_id, complaint))\n",
    "\n",
    "conn.commit()\n",
    "conn.close()"
   ],
   "metadata": {
    "collapsed": false,
    "is_executing": true
   },
   "id": "f20e4bd7dc29f35b",
   "execution_count": null
  },
  {
   "cell_type": "code",
   "outputs": [],
   "source": [
    "mean_complaints = 3 \n",
    "std_dev_complaints = 1.2\n",
    "complaints = np.random.normal(mean_complaints, std_dev_complaints, 60000)\n",
    "\n",
    "conn = sqlite3.connect(database_name)\n",
    "c = conn.cursor()\n",
    "\n",
    "for i in complaints:\n",
    "    client = np.random.choice(clients)\n",
    "    client_id, *_ = reversed(client['name'].split())\n",
    "\n",
    "    complaint = int(i)\n",
    "    c.execute('''INSERT INTO complaints (client_id, quantity) VALUES (?, ?)''', (client_id, complaint))\n",
    "\n",
    "conn.commit()\n",
    "conn.close()"
   ],
   "metadata": {
    "collapsed": false,
    "is_executing": true
   },
   "id": "90d6d17a5293f12d",
   "execution_count": null
  },
  {
   "cell_type": "code",
   "outputs": [],
   "source": [
    "mean_complaints = 3 \n",
    "std_dev_complaints = 1.2\n",
    "complaints = np.random.normal(mean_complaints, std_dev_complaints, 60000)\n",
    "\n",
    "conn = sqlite3.connect(database_name)\n",
    "c = conn.cursor()\n",
    "\n",
    "for i in complaints:\n",
    "    client = np.random.choice(clients)\n",
    "    client_id, *_ = reversed(client['name'].split())\n",
    "\n",
    "    complaint = int(i)\n",
    "    c.execute('''INSERT INTO complaints (client_id, quantity) VALUES (?, ?)''', (client_id, complaint))\n",
    "\n",
    "conn.commit()\n",
    "conn.close()"
   ],
   "metadata": {
    "collapsed": false,
    "is_executing": true
   },
   "id": "d9aefa3b0e7f329c",
   "execution_count": null
  }
 ],
 "metadata": {
  "kernelspec": {
   "display_name": "Python 3",
   "language": "python",
   "name": "python3"
  },
  "language_info": {
   "codemirror_mode": {
    "name": "ipython",
    "version": 2
   },
   "file_extension": ".py",
   "mimetype": "text/x-python",
   "name": "python",
   "nbconvert_exporter": "python",
   "pygments_lexer": "ipython2",
   "version": "2.7.6"
  }
 },
 "nbformat": 4,
 "nbformat_minor": 5
}
