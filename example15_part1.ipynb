{
 "cells": [
  {
   "cell_type": "code",
   "outputs": [],
   "source": [
    "import sqlite3\n",
    "import numpy as np"
   ],
   "metadata": {
    "collapsed": false,
    "ExecuteTime": {
     "end_time": "2024-04-21T19:54:51.828991Z",
     "start_time": "2024-04-21T19:54:51.825596Z"
    }
   },
   "id": "76c8afc43081012c",
   "execution_count": 167
  },
  {
   "cell_type": "code",
   "outputs": [],
   "source": [
    "database_name = 'clients.db'"
   ],
   "metadata": {
    "collapsed": false,
    "ExecuteTime": {
     "end_time": "2024-04-21T19:54:52.151728Z",
     "start_time": "2024-04-21T19:54:52.149052Z"
    }
   },
   "id": "1d4fae13708ba8aa",
   "execution_count": 168
  },
  {
   "cell_type": "code",
   "outputs": [],
   "source": [
    "conn = sqlite3.connect(database_name)\n",
    "c = conn.cursor()\n",
    "\n",
    "# Crear tabla de clientes\n",
    "c.execute('''CREATE TABLE IF NOT EXISTS clients (\n",
    "                    id INTEGER PRIMARY KEY,\n",
    "                    name TEXT unique,\n",
    "                    city TEXT,\n",
    "                    quantity_sales INTEGER\n",
    "                )''')\n",
    "\n",
    "# Create complaints table\n",
    "c.execute('''CREATE TABLE IF NOT EXISTS complaints (\n",
    "                    id INTEGER PRIMARY KEY,\n",
    "                    client_id INTEGER,\n",
    "                    quantity INTEGER,\n",
    "                    FOREIGN KEY (client_id) REFERENCES clients(id)\n",
    "                )''')\n",
    "\n",
    "conn.commit()\n",
    "conn.close()"
   ],
   "metadata": {
    "collapsed": false,
    "ExecuteTime": {
     "end_time": "2024-04-21T19:54:52.212585Z",
     "start_time": "2024-04-21T19:54:52.206439Z"
    }
   },
   "id": "33e79a77c9e95beb",
   "execution_count": 169
  },
  {
   "cell_type": "code",
   "outputs": [],
   "source": [
    "latam_cities = ['CDMX', 'Buenos Aires', 'São Paulo', 'Lima', 'Bogotá', 'Santiago', 'Caracas', 'Río de Janeiro', 'La Habana', 'Quito']\n",
    "\n",
    "clients = [{'name': f'Client {x+1}', 'sales': int(np.random.exponential(scale=1000))} for x in range(100000)]\n",
    "\n",
    "conn = sqlite3.connect(database_name)\n",
    "c = conn.cursor()\n",
    "\n",
    "for client in clients:\n",
    "   name = client['name']\n",
    "   sales = client['sales']\n",
    "   \n",
    "   rand = np.random.rand()\n",
    "   if rand < 0.2:\n",
    "      if rand < 0.1:\n",
    "         city = 'CDMX'\n",
    "      else:\n",
    "         city = 'Bogotá'\n",
    "   else:\n",
    "      city = np.random.choice(latam_cities) \n",
    "   c.execute('''INSERT INTO clients (name, city, quantity_sales) VALUES (?, ?, ?)''', (name, city, sales ))\n",
    "\n",
    "conn.commit()\n",
    "conn.close()"
   ],
   "metadata": {
    "collapsed": false,
    "ExecuteTime": {
     "end_time": "2024-04-21T19:54:53.016322Z",
     "start_time": "2024-04-21T19:54:52.278911Z"
    }
   },
   "id": "de91f0890e16a1d7",
   "execution_count": 170
  },
  {
   "cell_type": "code",
   "outputs": [],
   "source": [
    "# ----------------- Init Populate Complaints # Repetitive 60"
   ],
   "metadata": {
    "collapsed": false
   },
   "id": "4afeffc6d1d2ca0c",
   "execution_count": 171
  },
  {
   "cell_type": "code",
   "outputs": [],
   "source": [
    "mean_complaints = 3 \n",
    "std_dev_complaints = 1.2\n",
    "complaints = np.random.normal(mean_complaints, std_dev_complaints, 60000)\n",
    "\n",
    "conn = sqlite3.connect(database_name)\n",
    "c = conn.cursor()\n",
    "\n",
    "for i in complaints:\n",
    "    client = np.random.choice(clients)\n",
    "    client_id, *_ = reversed(client['name'].split())\n",
    "\n",
    "    complaint = int(i)\n",
    "    c.execute('''INSERT INTO complaints (client_id, quantity) VALUES (?, ?)''', (client_id, complaint))\n",
    "\n",
    "conn.commit()\n",
    "conn.close()"
   ],
   "metadata": {
    "collapsed": false,
    "ExecuteTime": {
     "end_time": "2024-04-21T22:57:15.649778Z",
     "start_time": "2024-04-21T22:25:38.318814Z"
    }
   },
   "id": "88e63b09bf070335",
   "execution_count": 190
  }
 ],
 "metadata": {
  "kernelspec": {
   "display_name": "Python 3",
   "language": "python",
   "name": "python3"
  },
  "language_info": {
   "codemirror_mode": {
    "name": "ipython",
    "version": 2
   },
   "file_extension": ".py",
   "mimetype": "text/x-python",
   "name": "python",
   "nbconvert_exporter": "python",
   "pygments_lexer": "ipython2",
   "version": "2.7.6"
  }
 },
 "nbformat": 4,
 "nbformat_minor": 5
}
