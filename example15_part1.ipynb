{
 "cells": [
  {
   "cell_type": "code",
   "source": [
    "import sqlite3\n",
    "import numpy as np"
   ],
   "metadata": {
    "collapsed": false,
    "ExecuteTime": {
     "end_time": "2024-04-21T22:52:41.157485Z",
     "start_time": "2024-04-21T22:52:41.057792Z"
    }
   },
   "id": "76c8afc43081012c",
   "outputs": [],
   "execution_count": 1
  },
  {
   "cell_type": "code",
   "source": [
    "database_name = 'clients.db'"
   ],
   "metadata": {
    "collapsed": false,
    "ExecuteTime": {
     "end_time": "2024-04-21T22:52:41.160641Z",
     "start_time": "2024-04-21T22:52:41.158486Z"
    }
   },
   "id": "1d4fae13708ba8aa",
   "outputs": [],
   "execution_count": 2
  },
  {
   "cell_type": "code",
   "source": [
    "conn = sqlite3.connect(database_name)\n",
    "c = conn.cursor()\n",
    "\n",
    "# Crear tabla de clientes\n",
    "c.execute('''CREATE TABLE IF NOT EXISTS clients (\n",
    "                    id INTEGER PRIMARY KEY,\n",
    "                    name TEXT unique,\n",
    "                    city TEXT,\n",
    "                    quantity_sales INTEGER\n",
    "                )''')\n",
    "\n",
    "# Create complaints table\n",
    "c.execute('''CREATE TABLE IF NOT EXISTS complaints (\n",
    "                    id INTEGER PRIMARY KEY,\n",
    "                    client_id INTEGER,\n",
    "                    quantity INTEGER,\n",
    "                    FOREIGN KEY (client_id) REFERENCES clients(id)\n",
    "                )''')\n",
    "\n",
    "conn.commit()\n",
    "conn.close()"
   ],
   "metadata": {
    "collapsed": false,
    "ExecuteTime": {
     "end_time": "2024-04-21T22:52:43.420109Z",
     "start_time": "2024-04-21T22:52:43.413444Z"
    }
   },
   "id": "33e79a77c9e95beb",
   "outputs": [],
   "execution_count": 3
  },
  {
   "cell_type": "code",
   "source": [
    "latam_cities = ['CDMX', 'Buenos Aires', 'São Paulo', 'Lima', 'Bogotá', 'Santiago', 'Caracas', 'Río de Janeiro', 'La Habana', 'Quito']\n",
    "\n",
    "clients = [{'name': f'Client {x+1}', 'sales': int(np.random.exponential(scale=1000))} for x in range(100000)]\n",
    "\n",
    "conn = sqlite3.connect(database_name)\n",
    "c = conn.cursor()\n",
    "\n",
    "for client in clients:\n",
    "   name = client['name']\n",
    "   sales = client['sales']\n",
    "\n",
    "   rand = np.random.rand()\n",
    "   if rand < 0.2:\n",
    "      if rand < 0.1:\n",
    "         city = 'CDMX'\n",
    "      else:\n",
    "         city = 'Bogotá'\n",
    "   else:\n",
    "      city = np.random.choice(latam_cities) \n",
    "   c.execute('''INSERT INTO clients (name, city, quantity_sales) VALUES (?, ?, ?)''', (name, city, sales ))\n",
    "\n",
    "conn.commit()\n",
    "conn.close()"
   ],
   "metadata": {
    "collapsed": false,
    "ExecuteTime": {
     "end_time": "2024-04-21T22:52:44.663541Z",
     "start_time": "2024-04-21T22:52:44.541141Z"
    }
   },
   "id": "de91f0890e16a1d7",
   "outputs": [],
   "execution_count": 4
  },
  {
   "metadata": {},
   "cell_type": "code",
   "source": "# ----------------- Init Populate Complaints",
   "id": "4afeffc6d1d2ca0c",
   "outputs": [],
   "execution_count": null
  },
  {
   "metadata": {
    "ExecuteTime": {
     "end_time": "2024-04-21T22:57:53.197543Z",
     "start_time": "2024-04-21T22:56:51.932644Z"
    }
   },
   "cell_type": "code",
   "source": [
    "mean_complaints = 3 \n",
    "std_dev_complaints = 1.2\n",
    "complaints = np.random.normal(mean_complaints, std_dev_complaints, 10000)\n",
    "\n",
    "conn = sqlite3.connect(database_name)\n",
    "c = conn.cursor()\n",
    "\n",
    "for j in complaints:\n",
    "    client = np.random.choice(clients)\n",
    "    client_id, *_ = reversed(client['name'].split())\n",
    "\n",
    "    complaint = int(j)\n",
    "    c.execute('''INSERT INTO complaints (client_id, quantity) VALUES (?, ?)''', (client_id, complaint))\n",
    "        \n",
    "conn.commit()\n",
    "    \n",
    "conn.close()"
   ],
   "id": "ac478d45758175b1",
   "outputs": [],
   "execution_count": 7
  },
  {
   "metadata": {},
   "cell_type": "code",
   "outputs": [],
   "execution_count": null,
   "source": "",
   "id": "72e99facaca1fe70"
  }
 ],
 "metadata": {
  "kernelspec": {
   "display_name": "Python 3",
   "language": "python",
   "name": "python3"
  },
  "language_info": {
   "codemirror_mode": {
    "name": "ipython",
    "version": 2
   },
   "file_extension": ".py",
   "mimetype": "text/x-python",
   "name": "python",
   "nbconvert_exporter": "python",
   "pygments_lexer": "ipython2",
   "version": "2.7.6"
  }
 },
 "nbformat": 4,
 "nbformat_minor": 5
}
