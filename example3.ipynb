{
 "cells": [
  {
   "cell_type": "code",
   "execution_count": 19,
   "id": "initial_id",
   "metadata": {
    "collapsed": true,
    "ExecuteTime": {
     "end_time": "2024-03-19T02:31:21.258119Z",
     "start_time": "2024-03-19T02:31:21.254427Z"
    }
   },
   "outputs": [],
   "source": [
    "def decorator_simple(fun):\n",
    "    def envol():\n",
    "        print(\"Before function\")\n",
    "        fun()\n",
    "        print(\"After function\")\n",
    "    return envol"
   ]
  },
  {
   "cell_type": "code",
   "outputs": [
    {
     "name": "stdout",
     "output_type": "stream",
     "text": [
      "Before function\n",
      "Hello World\n",
      "After function\n"
     ]
    }
   ],
   "source": [
    "@decorator_simple\n",
    "def greeting():\n",
    "    print(\"Hello World\")\n",
    "    \n",
    "greeting()"
   ],
   "metadata": {
    "collapsed": false,
    "ExecuteTime": {
     "end_time": "2024-03-19T02:31:21.264348Z",
     "start_time": "2024-03-19T02:31:21.261747Z"
    }
   },
   "id": "eee04fc0bfc98d88",
   "execution_count": 20
  }
 ],
 "metadata": {
  "kernelspec": {
   "display_name": "Python 3",
   "language": "python",
   "name": "python3"
  },
  "language_info": {
   "codemirror_mode": {
    "name": "ipython",
    "version": 2
   },
   "file_extension": ".py",
   "mimetype": "text/x-python",
   "name": "python",
   "nbconvert_exporter": "python",
   "pygments_lexer": "ipython2",
   "version": "2.7.6"
  }
 },
 "nbformat": 4,
 "nbformat_minor": 5
}
